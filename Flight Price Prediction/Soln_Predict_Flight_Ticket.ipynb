{
 "cells": [
  {
   "cell_type": "code",
   "execution_count": 1,
   "metadata": {
    "colab": {},
    "colab_type": "code",
    "id": "W9AtctmgJ6q5"
   },
   "outputs": [],
   "source": [
    "import pandas as pd\n",
    "\n",
    "training_set = pd.read_excel(\"Data_Train.xlsx\")\n",
    "#test_set = pd.read_excel(\"Test_set.xlsx\")\n"
   ]
  },
  {
   "cell_type": "code",
   "execution_count": 2,
   "metadata": {},
   "outputs": [
    {
     "data": {
      "text/html": [
       "<div>\n",
       "<style scoped>\n",
       "    .dataframe tbody tr th:only-of-type {\n",
       "        vertical-align: middle;\n",
       "    }\n",
       "\n",
       "    .dataframe tbody tr th {\n",
       "        vertical-align: top;\n",
       "    }\n",
       "\n",
       "    .dataframe thead th {\n",
       "        text-align: right;\n",
       "    }\n",
       "</style>\n",
       "<table border=\"1\" class=\"dataframe\">\n",
       "  <thead>\n",
       "    <tr style=\"text-align: right;\">\n",
       "      <th></th>\n",
       "      <th>Airline</th>\n",
       "      <th>Date_of_Journey</th>\n",
       "      <th>Source</th>\n",
       "      <th>Destination</th>\n",
       "      <th>Route</th>\n",
       "      <th>Dep_Time</th>\n",
       "      <th>Arrival_Time</th>\n",
       "      <th>Duration</th>\n",
       "      <th>Total_Stops</th>\n",
       "      <th>Additional_Info</th>\n",
       "      <th>Price</th>\n",
       "    </tr>\n",
       "  </thead>\n",
       "  <tbody>\n",
       "    <tr>\n",
       "      <th>0</th>\n",
       "      <td>IndiGo</td>\n",
       "      <td>24/03/2019</td>\n",
       "      <td>Banglore</td>\n",
       "      <td>New Delhi</td>\n",
       "      <td>BLR → DEL</td>\n",
       "      <td>22:20</td>\n",
       "      <td>01:10 22 Mar</td>\n",
       "      <td>2h 50m</td>\n",
       "      <td>non-stop</td>\n",
       "      <td>No info</td>\n",
       "      <td>3897</td>\n",
       "    </tr>\n",
       "    <tr>\n",
       "      <th>1</th>\n",
       "      <td>Air India</td>\n",
       "      <td>1/05/2019</td>\n",
       "      <td>Kolkata</td>\n",
       "      <td>Banglore</td>\n",
       "      <td>CCU → IXR → BBI → BLR</td>\n",
       "      <td>05:50</td>\n",
       "      <td>13:15</td>\n",
       "      <td>7h 25m</td>\n",
       "      <td>2 stops</td>\n",
       "      <td>No info</td>\n",
       "      <td>7662</td>\n",
       "    </tr>\n",
       "    <tr>\n",
       "      <th>2</th>\n",
       "      <td>Jet Airways</td>\n",
       "      <td>9/06/2019</td>\n",
       "      <td>Delhi</td>\n",
       "      <td>Cochin</td>\n",
       "      <td>DEL → LKO → BOM → COK</td>\n",
       "      <td>09:25</td>\n",
       "      <td>04:25 10 Jun</td>\n",
       "      <td>19h</td>\n",
       "      <td>2 stops</td>\n",
       "      <td>No info</td>\n",
       "      <td>13882</td>\n",
       "    </tr>\n",
       "    <tr>\n",
       "      <th>3</th>\n",
       "      <td>IndiGo</td>\n",
       "      <td>12/05/2019</td>\n",
       "      <td>Kolkata</td>\n",
       "      <td>Banglore</td>\n",
       "      <td>CCU → NAG → BLR</td>\n",
       "      <td>18:05</td>\n",
       "      <td>23:30</td>\n",
       "      <td>5h 25m</td>\n",
       "      <td>1 stop</td>\n",
       "      <td>No info</td>\n",
       "      <td>6218</td>\n",
       "    </tr>\n",
       "    <tr>\n",
       "      <th>4</th>\n",
       "      <td>IndiGo</td>\n",
       "      <td>01/03/2019</td>\n",
       "      <td>Banglore</td>\n",
       "      <td>New Delhi</td>\n",
       "      <td>BLR → NAG → DEL</td>\n",
       "      <td>16:50</td>\n",
       "      <td>21:35</td>\n",
       "      <td>4h 45m</td>\n",
       "      <td>1 stop</td>\n",
       "      <td>No info</td>\n",
       "      <td>13302</td>\n",
       "    </tr>\n",
       "  </tbody>\n",
       "</table>\n",
       "</div>"
      ],
      "text/plain": [
       "       Airline Date_of_Journey    Source Destination                  Route  \\\n",
       "0       IndiGo      24/03/2019  Banglore   New Delhi              BLR → DEL   \n",
       "1    Air India       1/05/2019   Kolkata    Banglore  CCU → IXR → BBI → BLR   \n",
       "2  Jet Airways       9/06/2019     Delhi      Cochin  DEL → LKO → BOM → COK   \n",
       "3       IndiGo      12/05/2019   Kolkata    Banglore        CCU → NAG → BLR   \n",
       "4       IndiGo      01/03/2019  Banglore   New Delhi        BLR → NAG → DEL   \n",
       "\n",
       "  Dep_Time  Arrival_Time Duration Total_Stops Additional_Info  Price  \n",
       "0    22:20  01:10 22 Mar   2h 50m    non-stop         No info   3897  \n",
       "1    05:50         13:15   7h 25m     2 stops         No info   7662  \n",
       "2    09:25  04:25 10 Jun      19h     2 stops         No info  13882  \n",
       "3    18:05         23:30   5h 25m      1 stop         No info   6218  \n",
       "4    16:50         21:35   4h 45m      1 stop         No info  13302  "
      ]
     },
     "execution_count": 2,
     "metadata": {},
     "output_type": "execute_result"
    }
   ],
   "source": [
    "training_set.head()"
   ]
  },
  {
   "cell_type": "code",
   "execution_count": 3,
   "metadata": {},
   "outputs": [
    {
     "name": "stdout",
     "output_type": "stream",
     "text": [
      "<class 'pandas.core.frame.DataFrame'>\n",
      "Int64Index: 10682 entries, 0 to 10682\n",
      "Data columns (total 11 columns):\n",
      "Airline            10682 non-null object\n",
      "Date_of_Journey    10682 non-null object\n",
      "Source             10682 non-null object\n",
      "Destination        10682 non-null object\n",
      "Route              10682 non-null object\n",
      "Dep_Time           10682 non-null object\n",
      "Arrival_Time       10682 non-null object\n",
      "Duration           10682 non-null object\n",
      "Total_Stops        10682 non-null object\n",
      "Additional_Info    10682 non-null object\n",
      "Price              10682 non-null int64\n",
      "dtypes: int64(1), object(10)\n",
      "memory usage: 1001.4+ KB\n"
     ]
    }
   ],
   "source": [
    "training_set.dropna(inplace=True)\n",
    "training_set.info()"
   ]
  },
  {
   "cell_type": "code",
   "execution_count": 4,
   "metadata": {},
   "outputs": [],
   "source": [
    "training_set['Date_of_Journey']=pd.to_datetime(training_set['Date_of_Journey'])"
   ]
  },
  {
   "cell_type": "code",
   "execution_count": 5,
   "metadata": {},
   "outputs": [],
   "source": [
    "training_set.sort_values(by='Date_of_Journey',inplace=True)"
   ]
  },
  {
   "cell_type": "code",
   "execution_count": 6,
   "metadata": {},
   "outputs": [],
   "source": [
    "training_set=training_set.set_index('Date_of_Journey')"
   ]
  },
  {
   "cell_type": "code",
   "execution_count": 7,
   "metadata": {},
   "outputs": [
    {
     "data": {
      "text/html": [
       "<div>\n",
       "<style scoped>\n",
       "    .dataframe tbody tr th:only-of-type {\n",
       "        vertical-align: middle;\n",
       "    }\n",
       "\n",
       "    .dataframe tbody tr th {\n",
       "        vertical-align: top;\n",
       "    }\n",
       "\n",
       "    .dataframe thead th {\n",
       "        text-align: right;\n",
       "    }\n",
       "</style>\n",
       "<table border=\"1\" class=\"dataframe\">\n",
       "  <thead>\n",
       "    <tr style=\"text-align: right;\">\n",
       "      <th></th>\n",
       "      <th>Airline</th>\n",
       "      <th>Source</th>\n",
       "      <th>Destination</th>\n",
       "      <th>Route</th>\n",
       "      <th>Dep_Time</th>\n",
       "      <th>Arrival_Time</th>\n",
       "      <th>Duration</th>\n",
       "      <th>Total_Stops</th>\n",
       "      <th>Additional_Info</th>\n",
       "      <th>Price</th>\n",
       "    </tr>\n",
       "    <tr>\n",
       "      <th>Date_of_Journey</th>\n",
       "      <th></th>\n",
       "      <th></th>\n",
       "      <th></th>\n",
       "      <th></th>\n",
       "      <th></th>\n",
       "      <th></th>\n",
       "      <th></th>\n",
       "      <th></th>\n",
       "      <th></th>\n",
       "      <th></th>\n",
       "    </tr>\n",
       "  </thead>\n",
       "  <tbody>\n",
       "    <tr>\n",
       "      <th>2019-01-03</th>\n",
       "      <td>SpiceJet</td>\n",
       "      <td>Kolkata</td>\n",
       "      <td>Banglore</td>\n",
       "      <td>CCU → BLR</td>\n",
       "      <td>09:00</td>\n",
       "      <td>11:30</td>\n",
       "      <td>2h 30m</td>\n",
       "      <td>non-stop</td>\n",
       "      <td>No info</td>\n",
       "      <td>5515</td>\n",
       "    </tr>\n",
       "    <tr>\n",
       "      <th>2019-01-03</th>\n",
       "      <td>Multiple carriers</td>\n",
       "      <td>Delhi</td>\n",
       "      <td>Cochin</td>\n",
       "      <td>DEL → BOM → COK</td>\n",
       "      <td>00:20</td>\n",
       "      <td>13:20</td>\n",
       "      <td>13h</td>\n",
       "      <td>1 stop</td>\n",
       "      <td>No info</td>\n",
       "      <td>29528</td>\n",
       "    </tr>\n",
       "    <tr>\n",
       "      <th>2019-01-03</th>\n",
       "      <td>Jet Airways</td>\n",
       "      <td>Banglore</td>\n",
       "      <td>New Delhi</td>\n",
       "      <td>BLR → BOM → DEL</td>\n",
       "      <td>08:55</td>\n",
       "      <td>15:15</td>\n",
       "      <td>6h 20m</td>\n",
       "      <td>1 stop</td>\n",
       "      <td>No info</td>\n",
       "      <td>26890</td>\n",
       "    </tr>\n",
       "    <tr>\n",
       "      <th>2019-01-03</th>\n",
       "      <td>Air India</td>\n",
       "      <td>Banglore</td>\n",
       "      <td>New Delhi</td>\n",
       "      <td>BLR → BOM → IDR → DEL</td>\n",
       "      <td>08:50</td>\n",
       "      <td>11:10 02 Mar</td>\n",
       "      <td>26h 20m</td>\n",
       "      <td>2 stops</td>\n",
       "      <td>No info</td>\n",
       "      <td>19372</td>\n",
       "    </tr>\n",
       "    <tr>\n",
       "      <th>2019-01-03</th>\n",
       "      <td>IndiGo</td>\n",
       "      <td>Banglore</td>\n",
       "      <td>New Delhi</td>\n",
       "      <td>BLR → DEL</td>\n",
       "      <td>10:05</td>\n",
       "      <td>13:00</td>\n",
       "      <td>2h 55m</td>\n",
       "      <td>non-stop</td>\n",
       "      <td>No info</td>\n",
       "      <td>10067</td>\n",
       "    </tr>\n",
       "  </tbody>\n",
       "</table>\n",
       "</div>"
      ],
      "text/plain": [
       "                           Airline    Source Destination  \\\n",
       "Date_of_Journey                                            \n",
       "2019-01-03                SpiceJet   Kolkata    Banglore   \n",
       "2019-01-03       Multiple carriers     Delhi      Cochin   \n",
       "2019-01-03             Jet Airways  Banglore   New Delhi   \n",
       "2019-01-03               Air India  Banglore   New Delhi   \n",
       "2019-01-03                  IndiGo  Banglore   New Delhi   \n",
       "\n",
       "                                 Route Dep_Time  Arrival_Time Duration  \\\n",
       "Date_of_Journey                                                          \n",
       "2019-01-03                   CCU → BLR    09:00         11:30   2h 30m   \n",
       "2019-01-03             DEL → BOM → COK    00:20         13:20      13h   \n",
       "2019-01-03             BLR → BOM → DEL    08:55         15:15   6h 20m   \n",
       "2019-01-03       BLR → BOM → IDR → DEL    08:50  11:10 02 Mar  26h 20m   \n",
       "2019-01-03                   BLR → DEL    10:05         13:00   2h 55m   \n",
       "\n",
       "                Total_Stops Additional_Info  Price  \n",
       "Date_of_Journey                                     \n",
       "2019-01-03         non-stop         No info   5515  \n",
       "2019-01-03           1 stop         No info  29528  \n",
       "2019-01-03           1 stop         No info  26890  \n",
       "2019-01-03          2 stops         No info  19372  \n",
       "2019-01-03         non-stop         No info  10067  "
      ]
     },
     "execution_count": 7,
     "metadata": {},
     "output_type": "execute_result"
    }
   ],
   "source": [
    "training_set.head()"
   ]
  },
  {
   "cell_type": "code",
   "execution_count": 8,
   "metadata": {},
   "outputs": [],
   "source": [
    "new_total_stops=[]\n",
    "for i in range(0,10682):\n",
    "    if training_set['Total_Stops'][i] == '1 stop':\n",
    "        new_total_stops.append(int(1))\n",
    "    elif training_set['Total_Stops'][i] == '2 stops':\n",
    "        new_total_stops.append(int(2))\n",
    "    elif training_set['Total_Stops'][i]== 'non-stop':\n",
    "        new_total_stops.append(int(0))\n",
    "    elif training_set['Total_Stops'][i]=='3 stops':\n",
    "        new_total_stops.append(int(3))\n",
    "    elif training_set['Total_Stops'][i]== '4 stops':\n",
    "        new_total_stops.append(int(4))"
   ]
  },
  {
   "cell_type": "code",
   "execution_count": 9,
   "metadata": {},
   "outputs": [
    {
     "data": {
      "text/html": [
       "<div>\n",
       "<style scoped>\n",
       "    .dataframe tbody tr th:only-of-type {\n",
       "        vertical-align: middle;\n",
       "    }\n",
       "\n",
       "    .dataframe tbody tr th {\n",
       "        vertical-align: top;\n",
       "    }\n",
       "\n",
       "    .dataframe thead th {\n",
       "        text-align: right;\n",
       "    }\n",
       "</style>\n",
       "<table border=\"1\" class=\"dataframe\">\n",
       "  <thead>\n",
       "    <tr style=\"text-align: right;\">\n",
       "      <th></th>\n",
       "      <th>New_Total_Stops</th>\n",
       "    </tr>\n",
       "    <tr>\n",
       "      <th>Date_of_Journey</th>\n",
       "      <th></th>\n",
       "    </tr>\n",
       "  </thead>\n",
       "  <tbody>\n",
       "    <tr>\n",
       "      <th>2019-01-03</th>\n",
       "      <td>0</td>\n",
       "    </tr>\n",
       "    <tr>\n",
       "      <th>2019-01-03</th>\n",
       "      <td>1</td>\n",
       "    </tr>\n",
       "    <tr>\n",
       "      <th>2019-01-03</th>\n",
       "      <td>1</td>\n",
       "    </tr>\n",
       "    <tr>\n",
       "      <th>2019-01-03</th>\n",
       "      <td>2</td>\n",
       "    </tr>\n",
       "    <tr>\n",
       "      <th>2019-01-03</th>\n",
       "      <td>0</td>\n",
       "    </tr>\n",
       "  </tbody>\n",
       "</table>\n",
       "</div>"
      ],
      "text/plain": [
       "                 New_Total_Stops\n",
       "Date_of_Journey                 \n",
       "2019-01-03                     0\n",
       "2019-01-03                     1\n",
       "2019-01-03                     1\n",
       "2019-01-03                     2\n",
       "2019-01-03                     0"
      ]
     },
     "execution_count": 9,
     "metadata": {},
     "output_type": "execute_result"
    }
   ],
   "source": [
    "New_Total_Stops=pd.DataFrame(new_total_stops,columns=['New_Total_Stops'])\n",
    "New_Total_Stops.set_index(training_set.index,inplace=True)\n",
    "New_Total_Stops.head()"
   ]
  },
  {
   "cell_type": "code",
   "execution_count": 10,
   "metadata": {},
   "outputs": [],
   "source": [
    "training_set=pd.concat([training_set,New_Total_Stops],axis=1, join_axes=[training_set.index])"
   ]
  },
  {
   "cell_type": "code",
   "execution_count": 14,
   "metadata": {},
   "outputs": [
    {
     "data": {
      "text/plain": [
       "<matplotlib.axes._subplots.AxesSubplot at 0x27c700bc2b0>"
      ]
     },
     "execution_count": 14,
     "metadata": {},
     "output_type": "execute_result"
    },
    {
     "data": {
      "image/png": "[encoded data removed]",
      "text/plain": [
       "<Figure size 432x288 with 1 Axes>"
      ]
     },
     "metadata": {},
     "output_type": "display_data"
    }
   ],
   "source": [
    "import seaborn as sns\n",
    "sns.barplot(x='Price',y='Airline',data=training_set)"
   ]
  },
  {
   "cell_type": "code",
   "execution_count": 15,
   "metadata": {},
   "outputs": [
    {
     "data": {
      "text/html": [
       "<div>\n",
       "<style scoped>\n",
       "    .dataframe tbody tr th:only-of-type {\n",
       "        vertical-align: middle;\n",
       "    }\n",
       "\n",
       "    .dataframe tbody tr th {\n",
       "        vertical-align: top;\n",
       "    }\n",
       "\n",
       "    .dataframe thead th {\n",
       "        text-align: right;\n",
       "    }\n",
       "</style>\n",
       "<table border=\"1\" class=\"dataframe\">\n",
       "  <thead>\n",
       "    <tr style=\"text-align: right;\">\n",
       "      <th></th>\n",
       "      <th>Airline</th>\n",
       "      <th>Source</th>\n",
       "      <th>Destination</th>\n",
       "      <th>Route</th>\n",
       "      <th>Dep_Time</th>\n",
       "      <th>Arrival_Time</th>\n",
       "      <th>Duration</th>\n",
       "      <th>Total_Stops</th>\n",
       "      <th>Additional_Info</th>\n",
       "      <th>Price</th>\n",
       "      <th>New_Total_Stops</th>\n",
       "    </tr>\n",
       "    <tr>\n",
       "      <th>Date_of_Journey</th>\n",
       "      <th></th>\n",
       "      <th></th>\n",
       "      <th></th>\n",
       "      <th></th>\n",
       "      <th></th>\n",
       "      <th></th>\n",
       "      <th></th>\n",
       "      <th></th>\n",
       "      <th></th>\n",
       "      <th></th>\n",
       "      <th></th>\n",
       "    </tr>\n",
       "  </thead>\n",
       "  <tbody>\n",
       "    <tr>\n",
       "      <th>2019-01-03</th>\n",
       "      <td>SpiceJet</td>\n",
       "      <td>Kolkata</td>\n",
       "      <td>Banglore</td>\n",
       "      <td>CCU → BLR</td>\n",
       "      <td>09:00</td>\n",
       "      <td>11:30</td>\n",
       "      <td>2h 30m</td>\n",
       "      <td>non-stop</td>\n",
       "      <td>No info</td>\n",
       "      <td>5515</td>\n",
       "      <td>0</td>\n",
       "    </tr>\n",
       "    <tr>\n",
       "      <th>2019-01-03</th>\n",
       "      <td>Multiple carriers</td>\n",
       "      <td>Delhi</td>\n",
       "      <td>Cochin</td>\n",
       "      <td>DEL → BOM → COK</td>\n",
       "      <td>00:20</td>\n",
       "      <td>13:20</td>\n",
       "      <td>13h</td>\n",
       "      <td>1 stop</td>\n",
       "      <td>No info</td>\n",
       "      <td>29528</td>\n",
       "      <td>1</td>\n",
       "    </tr>\n",
       "    <tr>\n",
       "      <th>2019-01-03</th>\n",
       "      <td>Jet Airways</td>\n",
       "      <td>Banglore</td>\n",
       "      <td>New Delhi</td>\n",
       "      <td>BLR → BOM → DEL</td>\n",
       "      <td>08:55</td>\n",
       "      <td>15:15</td>\n",
       "      <td>6h 20m</td>\n",
       "      <td>1 stop</td>\n",
       "      <td>No info</td>\n",
       "      <td>26890</td>\n",
       "      <td>1</td>\n",
       "    </tr>\n",
       "    <tr>\n",
       "      <th>2019-01-03</th>\n",
       "      <td>Air India</td>\n",
       "      <td>Banglore</td>\n",
       "      <td>New Delhi</td>\n",
       "      <td>BLR → BOM → IDR → DEL</td>\n",
       "      <td>08:50</td>\n",
       "      <td>11:10 02 Mar</td>\n",
       "      <td>26h 20m</td>\n",
       "      <td>2 stops</td>\n",
       "      <td>No info</td>\n",
       "      <td>19372</td>\n",
       "      <td>2</td>\n",
       "    </tr>\n",
       "    <tr>\n",
       "      <th>2019-01-03</th>\n",
       "      <td>IndiGo</td>\n",
       "      <td>Banglore</td>\n",
       "      <td>New Delhi</td>\n",
       "      <td>BLR → DEL</td>\n",
       "      <td>10:05</td>\n",
       "      <td>13:00</td>\n",
       "      <td>2h 55m</td>\n",
       "      <td>non-stop</td>\n",
       "      <td>No info</td>\n",
       "      <td>10067</td>\n",
       "      <td>0</td>\n",
       "    </tr>\n",
       "  </tbody>\n",
       "</table>\n",
       "</div>"
      ],
      "text/plain": [
       "                           Airline    Source Destination  \\\n",
       "Date_of_Journey                                            \n",
       "2019-01-03                SpiceJet   Kolkata    Banglore   \n",
       "2019-01-03       Multiple carriers     Delhi      Cochin   \n",
       "2019-01-03             Jet Airways  Banglore   New Delhi   \n",
       "2019-01-03               Air India  Banglore   New Delhi   \n",
       "2019-01-03                  IndiGo  Banglore   New Delhi   \n",
       "\n",
       "                                 Route Dep_Time  Arrival_Time Duration  \\\n",
       "Date_of_Journey                                                          \n",
       "2019-01-03                   CCU → BLR    09:00         11:30   2h 30m   \n",
       "2019-01-03             DEL → BOM → COK    00:20         13:20      13h   \n",
       "2019-01-03             BLR → BOM → DEL    08:55         15:15   6h 20m   \n",
       "2019-01-03       BLR → BOM → IDR → DEL    08:50  11:10 02 Mar  26h 20m   \n",
       "2019-01-03                   BLR → DEL    10:05         13:00   2h 55m   \n",
       "\n",
       "                Total_Stops Additional_Info  Price  New_Total_Stops  \n",
       "Date_of_Journey                                                      \n",
       "2019-01-03         non-stop         No info   5515                0  \n",
       "2019-01-03           1 stop         No info  29528                1  \n",
       "2019-01-03           1 stop         No info  26890                1  \n",
       "2019-01-03          2 stops         No info  19372                2  \n",
       "2019-01-03         non-stop         No info  10067                0  "
      ]
     },
     "execution_count": 15,
     "metadata": {},
     "output_type": "execute_result"
    }
   ],
   "source": [
    "training_set.head()"
   ]
  },
  {
   "cell_type": "code",
   "execution_count": 16,
   "metadata": {},
   "outputs": [],
   "source": [
    "final_list=[]\n",
    "for st in training_set['Duration']:\n",
    "    flag=0\n",
    "    result=0\n",
    "    s=0\n",
    "    s1=0\n",
    "    li=[]\n",
    "    for i in st:\n",
    "        if(i =='1' or i=='2' or i =='3' or i =='4' or i =='5' or i =='6' or i =='7' or i =='8' or i =='9' or i =='0'):\n",
    "            res=int(i)\n",
    "            s=(s*10)+res\n",
    "        \n",
    "        elif(i=='h'):\n",
    "            flag=1\n",
    "            s=s*60\n",
    "            li.append(s)\n",
    "            \n",
    "        if((i =='1' or i=='2' or i =='3' or i =='4' or i =='5' or i =='6' or i =='7' or i =='8' or i =='9' or i =='0') and flag==1):\n",
    "            res1=int(i)\n",
    "            \n",
    "            s1=(s1*10)+res1\n",
    "        elif(i=='m'):\n",
    "            li.append(s1)\n",
    "            \n",
    "    final_list.append((sum(li)))"
   ]
  },
  {
   "cell_type": "code",
   "execution_count": 17,
   "metadata": {},
   "outputs": [],
   "source": [
    "duration=[]\n",
    "for j in range(0,10682):\n",
    "    duration.append(int(final_list[j]))"
   ]
  },
  {
   "cell_type": "code",
   "execution_count": 18,
   "metadata": {},
   "outputs": [
    {
     "data": {
      "text/html": [
       "<div>\n",
       "<style scoped>\n",
       "    .dataframe tbody tr th:only-of-type {\n",
       "        vertical-align: middle;\n",
       "    }\n",
       "\n",
       "    .dataframe tbody tr th {\n",
       "        vertical-align: top;\n",
       "    }\n",
       "\n",
       "    .dataframe thead th {\n",
       "        text-align: right;\n",
       "    }\n",
       "</style>\n",
       "<table border=\"1\" class=\"dataframe\">\n",
       "  <thead>\n",
       "    <tr style=\"text-align: right;\">\n",
       "      <th></th>\n",
       "      <th>Duration_in_min</th>\n",
       "    </tr>\n",
       "    <tr>\n",
       "      <th>Date_of_Journey</th>\n",
       "      <th></th>\n",
       "    </tr>\n",
       "  </thead>\n",
       "  <tbody>\n",
       "    <tr>\n",
       "      <th>2019-01-03</th>\n",
       "      <td>150</td>\n",
       "    </tr>\n",
       "    <tr>\n",
       "      <th>2019-01-03</th>\n",
       "      <td>780</td>\n",
       "    </tr>\n",
       "    <tr>\n",
       "      <th>2019-01-03</th>\n",
       "      <td>380</td>\n",
       "    </tr>\n",
       "    <tr>\n",
       "      <th>2019-01-03</th>\n",
       "      <td>1580</td>\n",
       "    </tr>\n",
       "    <tr>\n",
       "      <th>2019-01-03</th>\n",
       "      <td>175</td>\n",
       "    </tr>\n",
       "  </tbody>\n",
       "</table>\n",
       "</div>"
      ],
      "text/plain": [
       "                 Duration_in_min\n",
       "Date_of_Journey                 \n",
       "2019-01-03                   150\n",
       "2019-01-03                   780\n",
       "2019-01-03                   380\n",
       "2019-01-03                  1580\n",
       "2019-01-03                   175"
      ]
     },
     "execution_count": 18,
     "metadata": {},
     "output_type": "execute_result"
    }
   ],
   "source": [
    "Duration_changed=pd.DataFrame(duration,columns=['Duration_in_min'])\n",
    "Duration_changed.set_index(training_set.index,inplace=True)\n",
    "Duration_changed.head()"
   ]
  },
  {
   "cell_type": "code",
   "execution_count": 19,
   "metadata": {},
   "outputs": [],
   "source": [
    "training_set=pd.concat([training_set,Duration_changed],axis=1, join_axes=[training_set.index])"
   ]
  },
  {
   "cell_type": "code",
   "execution_count": 20,
   "metadata": {},
   "outputs": [
    {
     "data": {
      "text/html": [
       "<div>\n",
       "<style scoped>\n",
       "    .dataframe tbody tr th:only-of-type {\n",
       "        vertical-align: middle;\n",
       "    }\n",
       "\n",
       "    .dataframe tbody tr th {\n",
       "        vertical-align: top;\n",
       "    }\n",
       "\n",
       "    .dataframe thead th {\n",
       "        text-align: right;\n",
       "    }\n",
       "</style>\n",
       "<table border=\"1\" class=\"dataframe\">\n",
       "  <thead>\n",
       "    <tr style=\"text-align: right;\">\n",
       "      <th></th>\n",
       "      <th>Airline</th>\n",
       "      <th>Source</th>\n",
       "      <th>Destination</th>\n",
       "      <th>Route</th>\n",
       "      <th>Dep_Time</th>\n",
       "      <th>Arrival_Time</th>\n",
       "      <th>Duration</th>\n",
       "      <th>Total_Stops</th>\n",
       "      <th>Additional_Info</th>\n",
       "      <th>Price</th>\n",
       "      <th>New_Total_Stops</th>\n",
       "      <th>Duration_in_min</th>\n",
       "    </tr>\n",
       "    <tr>\n",
       "      <th>Date_of_Journey</th>\n",
       "      <th></th>\n",
       "      <th></th>\n",
       "      <th></th>\n",
       "      <th></th>\n",
       "      <th></th>\n",
       "      <th></th>\n",
       "      <th></th>\n",
       "      <th></th>\n",
       "      <th></th>\n",
       "      <th></th>\n",
       "      <th></th>\n",
       "      <th></th>\n",
       "    </tr>\n",
       "  </thead>\n",
       "  <tbody>\n",
       "    <tr>\n",
       "      <th>2019-01-03</th>\n",
       "      <td>SpiceJet</td>\n",
       "      <td>Kolkata</td>\n",
       "      <td>Banglore</td>\n",
       "      <td>CCU → BLR</td>\n",
       "      <td>09:00</td>\n",
       "      <td>11:30</td>\n",
       "      <td>2h 30m</td>\n",
       "      <td>non-stop</td>\n",
       "      <td>No info</td>\n",
       "      <td>5515</td>\n",
       "      <td>0</td>\n",
       "      <td>150</td>\n",
       "    </tr>\n",
       "    <tr>\n",
       "      <th>2019-01-03</th>\n",
       "      <td>Multiple carriers</td>\n",
       "      <td>Delhi</td>\n",
       "      <td>Cochin</td>\n",
       "      <td>DEL → BOM → COK</td>\n",
       "      <td>00:20</td>\n",
       "      <td>13:20</td>\n",
       "      <td>13h</td>\n",
       "      <td>1 stop</td>\n",
       "      <td>No info</td>\n",
       "      <td>29528</td>\n",
       "      <td>1</td>\n",
       "      <td>780</td>\n",
       "    </tr>\n",
       "    <tr>\n",
       "      <th>2019-01-03</th>\n",
       "      <td>Jet Airways</td>\n",
       "      <td>Banglore</td>\n",
       "      <td>New Delhi</td>\n",
       "      <td>BLR → BOM → DEL</td>\n",
       "      <td>08:55</td>\n",
       "      <td>15:15</td>\n",
       "      <td>6h 20m</td>\n",
       "      <td>1 stop</td>\n",
       "      <td>No info</td>\n",
       "      <td>26890</td>\n",
       "      <td>1</td>\n",
       "      <td>380</td>\n",
       "    </tr>\n",
       "    <tr>\n",
       "      <th>2019-01-03</th>\n",
       "      <td>Air India</td>\n",
       "      <td>Banglore</td>\n",
       "      <td>New Delhi</td>\n",
       "      <td>BLR → BOM → IDR → DEL</td>\n",
       "      <td>08:50</td>\n",
       "      <td>11:10 02 Mar</td>\n",
       "      <td>26h 20m</td>\n",
       "      <td>2 stops</td>\n",
       "      <td>No info</td>\n",
       "      <td>19372</td>\n",
       "      <td>2</td>\n",
       "      <td>1580</td>\n",
       "    </tr>\n",
       "    <tr>\n",
       "      <th>2019-01-03</th>\n",
       "      <td>IndiGo</td>\n",
       "      <td>Banglore</td>\n",
       "      <td>New Delhi</td>\n",
       "      <td>BLR → DEL</td>\n",
       "      <td>10:05</td>\n",
       "      <td>13:00</td>\n",
       "      <td>2h 55m</td>\n",
       "      <td>non-stop</td>\n",
       "      <td>No info</td>\n",
       "      <td>10067</td>\n",
       "      <td>0</td>\n",
       "      <td>175</td>\n",
       "    </tr>\n",
       "  </tbody>\n",
       "</table>\n",
       "</div>"
      ],
      "text/plain": [
       "                           Airline    Source Destination  \\\n",
       "Date_of_Journey                                            \n",
       "2019-01-03                SpiceJet   Kolkata    Banglore   \n",
       "2019-01-03       Multiple carriers     Delhi      Cochin   \n",
       "2019-01-03             Jet Airways  Banglore   New Delhi   \n",
       "2019-01-03               Air India  Banglore   New Delhi   \n",
       "2019-01-03                  IndiGo  Banglore   New Delhi   \n",
       "\n",
       "                                 Route Dep_Time  Arrival_Time Duration  \\\n",
       "Date_of_Journey                                                          \n",
       "2019-01-03                   CCU → BLR    09:00         11:30   2h 30m   \n",
       "2019-01-03             DEL → BOM → COK    00:20         13:20      13h   \n",
       "2019-01-03             BLR → BOM → DEL    08:55         15:15   6h 20m   \n",
       "2019-01-03       BLR → BOM → IDR → DEL    08:50  11:10 02 Mar  26h 20m   \n",
       "2019-01-03                   BLR → DEL    10:05         13:00   2h 55m   \n",
       "\n",
       "                Total_Stops Additional_Info  Price  New_Total_Stops  \\\n",
       "Date_of_Journey                                                       \n",
       "2019-01-03         non-stop         No info   5515                0   \n",
       "2019-01-03           1 stop         No info  29528                1   \n",
       "2019-01-03           1 stop         No info  26890                1   \n",
       "2019-01-03          2 stops         No info  19372                2   \n",
       "2019-01-03         non-stop         No info  10067                0   \n",
       "\n",
       "                 Duration_in_min  \n",
       "Date_of_Journey                   \n",
       "2019-01-03                   150  \n",
       "2019-01-03                   780  \n",
       "2019-01-03                   380  \n",
       "2019-01-03                  1580  \n",
       "2019-01-03                   175  "
      ]
     },
     "execution_count": 20,
     "metadata": {},
     "output_type": "execute_result"
    }
   ],
   "source": [
    "training_set.head()"
   ]
  },
  {
   "cell_type": "code",
   "execution_count": 21,
   "metadata": {},
   "outputs": [],
   "source": [
    "training_set.drop(['Duration','Total_Stops'],axis=1,inplace=True)"
   ]
  },
  {
   "cell_type": "code",
   "execution_count": 22,
   "metadata": {},
   "outputs": [
    {
     "data": {
      "text/html": [
       "<div>\n",
       "<style scoped>\n",
       "    .dataframe tbody tr th:only-of-type {\n",
       "        vertical-align: middle;\n",
       "    }\n",
       "\n",
       "    .dataframe tbody tr th {\n",
       "        vertical-align: top;\n",
       "    }\n",
       "\n",
       "    .dataframe thead th {\n",
       "        text-align: right;\n",
       "    }\n",
       "</style>\n",
       "<table border=\"1\" class=\"dataframe\">\n",
       "  <thead>\n",
       "    <tr style=\"text-align: right;\">\n",
       "      <th></th>\n",
       "      <th>Airline</th>\n",
       "      <th>Source</th>\n",
       "      <th>Destination</th>\n",
       "      <th>Route</th>\n",
       "      <th>Dep_Time</th>\n",
       "      <th>Arrival_Time</th>\n",
       "      <th>Additional_Info</th>\n",
       "      <th>Price</th>\n",
       "      <th>New_Total_Stops</th>\n",
       "      <th>Duration_in_min</th>\n",
       "    </tr>\n",
       "    <tr>\n",
       "      <th>Date_of_Journey</th>\n",
       "      <th></th>\n",
       "      <th></th>\n",
       "      <th></th>\n",
       "      <th></th>\n",
       "      <th></th>\n",
       "      <th></th>\n",
       "      <th></th>\n",
       "      <th></th>\n",
       "      <th></th>\n",
       "      <th></th>\n",
       "    </tr>\n",
       "  </thead>\n",
       "  <tbody>\n",
       "    <tr>\n",
       "      <th>2019-01-03</th>\n",
       "      <td>SpiceJet</td>\n",
       "      <td>Kolkata</td>\n",
       "      <td>Banglore</td>\n",
       "      <td>CCU → BLR</td>\n",
       "      <td>09:00</td>\n",
       "      <td>11:30</td>\n",
       "      <td>No info</td>\n",
       "      <td>5515</td>\n",
       "      <td>0</td>\n",
       "      <td>150</td>\n",
       "    </tr>\n",
       "    <tr>\n",
       "      <th>2019-01-03</th>\n",
       "      <td>Multiple carriers</td>\n",
       "      <td>Delhi</td>\n",
       "      <td>Cochin</td>\n",
       "      <td>DEL → BOM → COK</td>\n",
       "      <td>00:20</td>\n",
       "      <td>13:20</td>\n",
       "      <td>No info</td>\n",
       "      <td>29528</td>\n",
       "      <td>1</td>\n",
       "      <td>780</td>\n",
       "    </tr>\n",
       "    <tr>\n",
       "      <th>2019-01-03</th>\n",
       "      <td>Jet Airways</td>\n",
       "      <td>Banglore</td>\n",
       "      <td>New Delhi</td>\n",
       "      <td>BLR → BOM → DEL</td>\n",
       "      <td>08:55</td>\n",
       "      <td>15:15</td>\n",
       "      <td>No info</td>\n",
       "      <td>26890</td>\n",
       "      <td>1</td>\n",
       "      <td>380</td>\n",
       "    </tr>\n",
       "    <tr>\n",
       "      <th>2019-01-03</th>\n",
       "      <td>Air India</td>\n",
       "      <td>Banglore</td>\n",
       "      <td>New Delhi</td>\n",
       "      <td>BLR → BOM → IDR → DEL</td>\n",
       "      <td>08:50</td>\n",
       "      <td>11:10 02 Mar</td>\n",
       "      <td>No info</td>\n",
       "      <td>19372</td>\n",
       "      <td>2</td>\n",
       "      <td>1580</td>\n",
       "    </tr>\n",
       "    <tr>\n",
       "      <th>2019-01-03</th>\n",
       "      <td>IndiGo</td>\n",
       "      <td>Banglore</td>\n",
       "      <td>New Delhi</td>\n",
       "      <td>BLR → DEL</td>\n",
       "      <td>10:05</td>\n",
       "      <td>13:00</td>\n",
       "      <td>No info</td>\n",
       "      <td>10067</td>\n",
       "      <td>0</td>\n",
       "      <td>175</td>\n",
       "    </tr>\n",
       "  </tbody>\n",
       "</table>\n",
       "</div>"
      ],
      "text/plain": [
       "                           Airline    Source Destination  \\\n",
       "Date_of_Journey                                            \n",
       "2019-01-03                SpiceJet   Kolkata    Banglore   \n",
       "2019-01-03       Multiple carriers     Delhi      Cochin   \n",
       "2019-01-03             Jet Airways  Banglore   New Delhi   \n",
       "2019-01-03               Air India  Banglore   New Delhi   \n",
       "2019-01-03                  IndiGo  Banglore   New Delhi   \n",
       "\n",
       "                                 Route Dep_Time  Arrival_Time Additional_Info  \\\n",
       "Date_of_Journey                                                                 \n",
       "2019-01-03                   CCU → BLR    09:00         11:30         No info   \n",
       "2019-01-03             DEL → BOM → COK    00:20         13:20         No info   \n",
       "2019-01-03             BLR → BOM → DEL    08:55         15:15         No info   \n",
       "2019-01-03       BLR → BOM → IDR → DEL    08:50  11:10 02 Mar         No info   \n",
       "2019-01-03                   BLR → DEL    10:05         13:00         No info   \n",
       "\n",
       "                 Price  New_Total_Stops  Duration_in_min  \n",
       "Date_of_Journey                                           \n",
       "2019-01-03        5515                0              150  \n",
       "2019-01-03       29528                1              780  \n",
       "2019-01-03       26890                1              380  \n",
       "2019-01-03       19372                2             1580  \n",
       "2019-01-03       10067                0              175  "
      ]
     },
     "execution_count": 22,
     "metadata": {},
     "output_type": "execute_result"
    }
   ],
   "source": [
    "training_set.head()"
   ]
  },
  {
   "cell_type": "code",
   "execution_count": 23,
   "metadata": {},
   "outputs": [],
   "source": [
    "\n",
    "new_duration=[]\n",
    "for time in range(0,10682):\n",
    "    if training_set.Duration_in_min[time] >=0 and training_set.Duration_in_min[time] <=300:\n",
    "        new_duration.append(1)\n",
    "        \n",
    "    elif training_set.Duration_in_min[time] >=301 and training_set.Duration_in_min[time] <=600:\n",
    "         new_duration.append(2)\n",
    "        \n",
    "    elif training_set.Duration_in_min[time] >=601 and training_set.Duration_in_min[time] <=900:\n",
    "         new_duration.append(3)\n",
    "        \n",
    "    elif training_set.Duration_in_min[time] >=901 and training_set.Duration_in_min[time] <=1200:\n",
    "         new_duration.append(4)\n",
    "        \n",
    "    elif training_set.Duration_in_min[time] >=1201 and training_set.Duration_in_min[time] <=1500:\n",
    "         new_duration.append(5)\n",
    "        \n",
    "    elif training_set.Duration_in_min[time] >=1501 and training_set.Duration_in_min[time] <=1800:\n",
    "         new_duration.append(6)\n",
    "         \n",
    "    elif training_set.Duration_in_min[time] >=1801 and training_set.Duration_in_min[time] <=2100:\n",
    "         new_duration.append(7)\n",
    "         \n",
    "    elif training_set.Duration_in_min[time] >=2101 and training_set.Duration_in_min[time] <=2400:\n",
    "         new_duration.append(8)\n",
    "         \n",
    "    elif training_set.Duration_in_min[time] >=2401 and training_set.Duration_in_min[time] <=2700:\n",
    "         new_duration.append(9)\n",
    "        \n",
    "    elif training_set.Duration_in_min[time] >=2701 and training_set.Duration_in_min[time] <=3000:\n",
    "         new_duration.append(10)\n",
    "         \n",
    "    \n",
    "        "
   ]
  },
  {
   "cell_type": "code",
   "execution_count": 24,
   "metadata": {},
   "outputs": [
    {
     "data": {
      "text/plain": [
       "10682"
      ]
     },
     "execution_count": 24,
     "metadata": {},
     "output_type": "execute_result"
    }
   ],
   "source": [
    "len(new_duration)"
   ]
  },
  {
   "cell_type": "code",
   "execution_count": 25,
   "metadata": {},
   "outputs": [
    {
     "data": {
      "text/html": [
       "<div>\n",
       "<style scoped>\n",
       "    .dataframe tbody tr th:only-of-type {\n",
       "        vertical-align: middle;\n",
       "    }\n",
       "\n",
       "    .dataframe tbody tr th {\n",
       "        vertical-align: top;\n",
       "    }\n",
       "\n",
       "    .dataframe thead th {\n",
       "        text-align: right;\n",
       "    }\n",
       "</style>\n",
       "<table border=\"1\" class=\"dataframe\">\n",
       "  <thead>\n",
       "    <tr style=\"text-align: right;\">\n",
       "      <th></th>\n",
       "      <th>New_Duration</th>\n",
       "    </tr>\n",
       "    <tr>\n",
       "      <th>Date_of_Journey</th>\n",
       "      <th></th>\n",
       "    </tr>\n",
       "  </thead>\n",
       "  <tbody>\n",
       "    <tr>\n",
       "      <th>2019-12-06</th>\n",
       "      <td>3</td>\n",
       "    </tr>\n",
       "    <tr>\n",
       "      <th>2019-12-06</th>\n",
       "      <td>2</td>\n",
       "    </tr>\n",
       "    <tr>\n",
       "      <th>2019-12-06</th>\n",
       "      <td>5</td>\n",
       "    </tr>\n",
       "    <tr>\n",
       "      <th>2019-12-06</th>\n",
       "      <td>5</td>\n",
       "    </tr>\n",
       "    <tr>\n",
       "      <th>2019-12-06</th>\n",
       "      <td>3</td>\n",
       "    </tr>\n",
       "  </tbody>\n",
       "</table>\n",
       "</div>"
      ],
      "text/plain": [
       "                 New_Duration\n",
       "Date_of_Journey              \n",
       "2019-12-06                  3\n",
       "2019-12-06                  2\n",
       "2019-12-06                  5\n",
       "2019-12-06                  5\n",
       "2019-12-06                  3"
      ]
     },
     "execution_count": 25,
     "metadata": {},
     "output_type": "execute_result"
    }
   ],
   "source": [
    "New_Duration=pd.DataFrame(new_duration,columns=['New_Duration'])\n",
    "New_Duration.set_index(training_set.index,inplace=True)\n",
    "New_Duration.tail()"
   ]
  },
  {
   "cell_type": "code",
   "execution_count": 26,
   "metadata": {},
   "outputs": [],
   "source": [
    "training_set=pd.concat([training_set,New_Duration],axis=1, join_axes=[training_set.index])"
   ]
  },
  {
   "cell_type": "code",
   "execution_count": 27,
   "metadata": {},
   "outputs": [
    {
     "data": {
      "text/html": [
       "<div>\n",
       "<style scoped>\n",
       "    .dataframe tbody tr th:only-of-type {\n",
       "        vertical-align: middle;\n",
       "    }\n",
       "\n",
       "    .dataframe tbody tr th {\n",
       "        vertical-align: top;\n",
       "    }\n",
       "\n",
       "    .dataframe thead th {\n",
       "        text-align: right;\n",
       "    }\n",
       "</style>\n",
       "<table border=\"1\" class=\"dataframe\">\n",
       "  <thead>\n",
       "    <tr style=\"text-align: right;\">\n",
       "      <th></th>\n",
       "      <th>Airline</th>\n",
       "      <th>Source</th>\n",
       "      <th>Destination</th>\n",
       "      <th>Route</th>\n",
       "      <th>Dep_Time</th>\n",
       "      <th>Arrival_Time</th>\n",
       "      <th>Additional_Info</th>\n",
       "      <th>Price</th>\n",
       "      <th>New_Total_Stops</th>\n",
       "      <th>Duration_in_min</th>\n",
       "      <th>New_Duration</th>\n",
       "    </tr>\n",
       "    <tr>\n",
       "      <th>Date_of_Journey</th>\n",
       "      <th></th>\n",
       "      <th></th>\n",
       "      <th></th>\n",
       "      <th></th>\n",
       "      <th></th>\n",
       "      <th></th>\n",
       "      <th></th>\n",
       "      <th></th>\n",
       "      <th></th>\n",
       "      <th></th>\n",
       "      <th></th>\n",
       "    </tr>\n",
       "  </thead>\n",
       "  <tbody>\n",
       "    <tr>\n",
       "      <th>2019-01-03</th>\n",
       "      <td>SpiceJet</td>\n",
       "      <td>Kolkata</td>\n",
       "      <td>Banglore</td>\n",
       "      <td>CCU → BLR</td>\n",
       "      <td>09:00</td>\n",
       "      <td>11:30</td>\n",
       "      <td>No info</td>\n",
       "      <td>5515</td>\n",
       "      <td>0</td>\n",
       "      <td>150</td>\n",
       "      <td>1</td>\n",
       "    </tr>\n",
       "    <tr>\n",
       "      <th>2019-01-03</th>\n",
       "      <td>Multiple carriers</td>\n",
       "      <td>Delhi</td>\n",
       "      <td>Cochin</td>\n",
       "      <td>DEL → BOM → COK</td>\n",
       "      <td>00:20</td>\n",
       "      <td>13:20</td>\n",
       "      <td>No info</td>\n",
       "      <td>29528</td>\n",
       "      <td>1</td>\n",
       "      <td>780</td>\n",
       "      <td>3</td>\n",
       "    </tr>\n",
       "    <tr>\n",
       "      <th>2019-01-03</th>\n",
       "      <td>Jet Airways</td>\n",
       "      <td>Banglore</td>\n",
       "      <td>New Delhi</td>\n",
       "      <td>BLR → BOM → DEL</td>\n",
       "      <td>08:55</td>\n",
       "      <td>15:15</td>\n",
       "      <td>No info</td>\n",
       "      <td>26890</td>\n",
       "      <td>1</td>\n",
       "      <td>380</td>\n",
       "      <td>2</td>\n",
       "    </tr>\n",
       "    <tr>\n",
       "      <th>2019-01-03</th>\n",
       "      <td>Air India</td>\n",
       "      <td>Banglore</td>\n",
       "      <td>New Delhi</td>\n",
       "      <td>BLR → BOM → IDR → DEL</td>\n",
       "      <td>08:50</td>\n",
       "      <td>11:10 02 Mar</td>\n",
       "      <td>No info</td>\n",
       "      <td>19372</td>\n",
       "      <td>2</td>\n",
       "      <td>1580</td>\n",
       "      <td>6</td>\n",
       "    </tr>\n",
       "    <tr>\n",
       "      <th>2019-01-03</th>\n",
       "      <td>IndiGo</td>\n",
       "      <td>Banglore</td>\n",
       "      <td>New Delhi</td>\n",
       "      <td>BLR → DEL</td>\n",
       "      <td>10:05</td>\n",
       "      <td>13:00</td>\n",
       "      <td>No info</td>\n",
       "      <td>10067</td>\n",
       "      <td>0</td>\n",
       "      <td>175</td>\n",
       "      <td>1</td>\n",
       "    </tr>\n",
       "  </tbody>\n",
       "</table>\n",
       "</div>"
      ],
      "text/plain": [
       "                           Airline    Source Destination  \\\n",
       "Date_of_Journey                                            \n",
       "2019-01-03                SpiceJet   Kolkata    Banglore   \n",
       "2019-01-03       Multiple carriers     Delhi      Cochin   \n",
       "2019-01-03             Jet Airways  Banglore   New Delhi   \n",
       "2019-01-03               Air India  Banglore   New Delhi   \n",
       "2019-01-03                  IndiGo  Banglore   New Delhi   \n",
       "\n",
       "                                 Route Dep_Time  Arrival_Time Additional_Info  \\\n",
       "Date_of_Journey                                                                 \n",
       "2019-01-03                   CCU → BLR    09:00         11:30         No info   \n",
       "2019-01-03             DEL → BOM → COK    00:20         13:20         No info   \n",
       "2019-01-03             BLR → BOM → DEL    08:55         15:15         No info   \n",
       "2019-01-03       BLR → BOM → IDR → DEL    08:50  11:10 02 Mar         No info   \n",
       "2019-01-03                   BLR → DEL    10:05         13:00         No info   \n",
       "\n",
       "                 Price  New_Total_Stops  Duration_in_min  New_Duration  \n",
       "Date_of_Journey                                                         \n",
       "2019-01-03        5515                0              150             1  \n",
       "2019-01-03       29528                1              780             3  \n",
       "2019-01-03       26890                1              380             2  \n",
       "2019-01-03       19372                2             1580             6  \n",
       "2019-01-03       10067                0              175             1  "
      ]
     },
     "execution_count": 27,
     "metadata": {},
     "output_type": "execute_result"
    }
   ],
   "source": [
    "training_set.head()"
   ]
  },
  {
   "cell_type": "code",
   "execution_count": 28,
   "metadata": {},
   "outputs": [
    {
     "data": {
      "text/plain": [
       "<matplotlib.axes._subplots.AxesSubplot at 0x27c70058a90>"
      ]
     },
     "execution_count": 28,
     "metadata": {},
     "output_type": "execute_result"
    },
    {
     "data": {
      "image/png": "[encoded data removed]",
      "text/plain": [
       "<Figure size 432x288 with 1 Axes>"
      ]
     },
     "metadata": {},
     "output_type": "display_data"
    }
   ],
   "source": [
    "sns.barplot(y='Additional_Info',x='Price',data=training_set)"
   ]
  },
  {
   "cell_type": "code",
   "execution_count": 29,
   "metadata": {},
   "outputs": [
    {
     "name": "stdout",
     "output_type": "stream",
     "text": [
      "9141.519295302014\n",
      "8044.666666666667\n",
      "10873.0\n",
      "3645.15625\n"
     ]
    }
   ],
   "source": [
    "print(training_set[training_set['Additional_Info']=='No info'].Price.mean())\n",
    "print(training_set[training_set['Additional_Info']=='No Info'].Price.mean())\n",
    "print(training_set[training_set['Additional_Info']=='Red-eye flight'].Price.mean())\n",
    "print(training_set[training_set['Additional_Info']=='No check-in baggage included'].Price.mean())"
   ]
  },
  {
   "cell_type": "code",
   "execution_count": 30,
   "metadata": {},
   "outputs": [
    {
     "name": "stdout",
     "output_type": "stream",
     "text": [
      "22109.63157894737\n",
      "26480.0\n",
      "16800.714285714286\n"
     ]
    }
   ],
   "source": [
    "print(training_set[training_set['Additional_Info']=='1 Long layover'].Price.mean())\n",
    "print(training_set[training_set['Additional_Info']=='2 Long layover'].Price.mean())\n",
    "print(training_set[training_set['Additional_Info']=='Change airports'].Price.mean())"
   ]
  },
  {
   "cell_type": "code",
   "execution_count": 31,
   "metadata": {},
   "outputs": [
    {
     "data": {
      "text/plain": [
       "<matplotlib.axes._subplots.AxesSubplot at 0x27c70176780>"
      ]
     },
     "execution_count": 31,
     "metadata": {},
     "output_type": "execute_result"
    },
    {
     "data": {
      "image/png": "[encoded data removed]",
      "text/plain": [
       "<Figure size 432x288 with 1 Axes>"
      ]
     },
     "metadata": {},
     "output_type": "display_data"
    }
   ],
   "source": [
    "sns.barplot(x='Price',y='Airline',data=training_set)"
   ]
  },
  {
   "cell_type": "code",
   "execution_count": 32,
   "metadata": {},
   "outputs": [
    {
     "name": "stdout",
     "output_type": "stream",
     "text": [
      "7796.348643006263\n",
      "5673.68290306868\n",
      "4338.284841075794\n",
      "5590.260188087775\n",
      "5861.056701030928\n",
      "4140.0\n"
     ]
    }
   ],
   "source": [
    "print(training_set[training_set.Airline=='Vistara'].Price.mean())\n",
    "print(training_set[training_set.Airline=='IndiGo'].Price.mean())\n",
    "print(training_set[training_set.Airline=='SpiceJet'].Price.mean())\n",
    "print(training_set[training_set.Airline=='Air Asia'].Price.mean())\n",
    "print(training_set[training_set.Airline=='GoAir'].Price.mean())\n",
    "print(training_set[training_set.Airline=='Trujet'].Price.mean())"
   ]
  },
  {
   "cell_type": "code",
   "execution_count": 33,
   "metadata": {},
   "outputs": [
    {
     "name": "stdout",
     "output_type": "stream",
     "text": [
      "8962.333333333334\n",
      "11643.92335671603\n",
      "10902.678093645485\n",
      "9612.427755568247\n",
      "11418.846153846154\n",
      "58358.666666666664\n"
     ]
    }
   ],
   "source": [
    "print(training_set[training_set.Airline=='Vistara Premium economy'].Price.mean())\n",
    "print(training_set[training_set.Airline=='Jet Airways'].Price.mean())\n",
    "print(training_set[training_set.Airline=='Multiple carriers'].Price.mean())\n",
    "print(training_set[training_set.Airline=='Air India'].Price.mean())\n",
    "print(training_set[training_set.Airline=='Multiple carriers Premium economy'].Price.mean())\n",
    "print(training_set[training_set.Airline=='Jet Airways Business'].Price.mean())"
   ]
  },
  {
   "cell_type": "code",
   "execution_count": 34,
   "metadata": {},
   "outputs": [],
   "source": [
    "dummy_set=training_set.copy()"
   ]
  },
  {
   "cell_type": "code",
   "execution_count": 35,
   "metadata": {},
   "outputs": [
    {
     "data": {
      "text/html": [
       "<div>\n",
       "<style scoped>\n",
       "    .dataframe tbody tr th:only-of-type {\n",
       "        vertical-align: middle;\n",
       "    }\n",
       "\n",
       "    .dataframe tbody tr th {\n",
       "        vertical-align: top;\n",
       "    }\n",
       "\n",
       "    .dataframe thead th {\n",
       "        text-align: right;\n",
       "    }\n",
       "</style>\n",
       "<table border=\"1\" class=\"dataframe\">\n",
       "  <thead>\n",
       "    <tr style=\"text-align: right;\">\n",
       "      <th></th>\n",
       "      <th>Airline</th>\n",
       "      <th>Source</th>\n",
       "      <th>Destination</th>\n",
       "      <th>Route</th>\n",
       "      <th>Dep_Time</th>\n",
       "      <th>Arrival_Time</th>\n",
       "      <th>Additional_Info</th>\n",
       "      <th>Price</th>\n",
       "      <th>New_Total_Stops</th>\n",
       "      <th>Duration_in_min</th>\n",
       "      <th>New_Duration</th>\n",
       "    </tr>\n",
       "    <tr>\n",
       "      <th>Date_of_Journey</th>\n",
       "      <th></th>\n",
       "      <th></th>\n",
       "      <th></th>\n",
       "      <th></th>\n",
       "      <th></th>\n",
       "      <th></th>\n",
       "      <th></th>\n",
       "      <th></th>\n",
       "      <th></th>\n",
       "      <th></th>\n",
       "      <th></th>\n",
       "    </tr>\n",
       "  </thead>\n",
       "  <tbody>\n",
       "    <tr>\n",
       "      <th>2019-01-03</th>\n",
       "      <td>SpiceJet</td>\n",
       "      <td>Kolkata</td>\n",
       "      <td>Banglore</td>\n",
       "      <td>CCU → BLR</td>\n",
       "      <td>09:00</td>\n",
       "      <td>11:30</td>\n",
       "      <td>No info</td>\n",
       "      <td>5515</td>\n",
       "      <td>0</td>\n",
       "      <td>150</td>\n",
       "      <td>1</td>\n",
       "    </tr>\n",
       "    <tr>\n",
       "      <th>2019-01-03</th>\n",
       "      <td>Multiple carriers</td>\n",
       "      <td>Delhi</td>\n",
       "      <td>Cochin</td>\n",
       "      <td>DEL → BOM → COK</td>\n",
       "      <td>00:20</td>\n",
       "      <td>13:20</td>\n",
       "      <td>No info</td>\n",
       "      <td>29528</td>\n",
       "      <td>1</td>\n",
       "      <td>780</td>\n",
       "      <td>3</td>\n",
       "    </tr>\n",
       "    <tr>\n",
       "      <th>2019-01-03</th>\n",
       "      <td>Jet Airways</td>\n",
       "      <td>Banglore</td>\n",
       "      <td>New Delhi</td>\n",
       "      <td>BLR → BOM → DEL</td>\n",
       "      <td>08:55</td>\n",
       "      <td>15:15</td>\n",
       "      <td>No info</td>\n",
       "      <td>26890</td>\n",
       "      <td>1</td>\n",
       "      <td>380</td>\n",
       "      <td>2</td>\n",
       "    </tr>\n",
       "    <tr>\n",
       "      <th>2019-01-03</th>\n",
       "      <td>Air India</td>\n",
       "      <td>Banglore</td>\n",
       "      <td>New Delhi</td>\n",
       "      <td>BLR → BOM → IDR → DEL</td>\n",
       "      <td>08:50</td>\n",
       "      <td>11:10 02 Mar</td>\n",
       "      <td>No info</td>\n",
       "      <td>19372</td>\n",
       "      <td>2</td>\n",
       "      <td>1580</td>\n",
       "      <td>6</td>\n",
       "    </tr>\n",
       "    <tr>\n",
       "      <th>2019-01-03</th>\n",
       "      <td>IndiGo</td>\n",
       "      <td>Banglore</td>\n",
       "      <td>New Delhi</td>\n",
       "      <td>BLR → DEL</td>\n",
       "      <td>10:05</td>\n",
       "      <td>13:00</td>\n",
       "      <td>No info</td>\n",
       "      <td>10067</td>\n",
       "      <td>0</td>\n",
       "      <td>175</td>\n",
       "      <td>1</td>\n",
       "    </tr>\n",
       "  </tbody>\n",
       "</table>\n",
       "</div>"
      ],
      "text/plain": [
       "                           Airline    Source Destination  \\\n",
       "Date_of_Journey                                            \n",
       "2019-01-03                SpiceJet   Kolkata    Banglore   \n",
       "2019-01-03       Multiple carriers     Delhi      Cochin   \n",
       "2019-01-03             Jet Airways  Banglore   New Delhi   \n",
       "2019-01-03               Air India  Banglore   New Delhi   \n",
       "2019-01-03                  IndiGo  Banglore   New Delhi   \n",
       "\n",
       "                                 Route Dep_Time  Arrival_Time Additional_Info  \\\n",
       "Date_of_Journey                                                                 \n",
       "2019-01-03                   CCU → BLR    09:00         11:30         No info   \n",
       "2019-01-03             DEL → BOM → COK    00:20         13:20         No info   \n",
       "2019-01-03             BLR → BOM → DEL    08:55         15:15         No info   \n",
       "2019-01-03       BLR → BOM → IDR → DEL    08:50  11:10 02 Mar         No info   \n",
       "2019-01-03                   BLR → DEL    10:05         13:00         No info   \n",
       "\n",
       "                 Price  New_Total_Stops  Duration_in_min  New_Duration  \n",
       "Date_of_Journey                                                         \n",
       "2019-01-03        5515                0              150             1  \n",
       "2019-01-03       29528                1              780             3  \n",
       "2019-01-03       26890                1              380             2  \n",
       "2019-01-03       19372                2             1580             6  \n",
       "2019-01-03       10067                0              175             1  "
      ]
     },
     "execution_count": 35,
     "metadata": {},
     "output_type": "execute_result"
    }
   ],
   "source": [
    "training_set.head()"
   ]
  },
  {
   "cell_type": "code",
   "execution_count": 36,
   "metadata": {},
   "outputs": [
    {
     "data": {
      "text/plain": [
       "array(['SpiceJet', 'Multiple carriers', 'Jet Airways', 'Air India',\n",
       "       'IndiGo', 'Air Asia', 'GoAir', 'Vistara', 'Jet Airways Business',\n",
       "       'Vistara Premium economy', 'Multiple carriers Premium economy',\n",
       "       'Trujet'], dtype=object)"
      ]
     },
     "execution_count": 36,
     "metadata": {},
     "output_type": "execute_result"
    }
   ],
   "source": [
    "dummy_set.Airline.unique()"
   ]
  },
  {
   "cell_type": "code",
   "execution_count": 37,
   "metadata": {},
   "outputs": [],
   "source": [
    "airline=[]\n",
    "for i in range(0,10682):\n",
    "    if dummy_set.Airline[i]=='Vistara' or dummy_set.Airline[i]=='IndiGo' or dummy_set.Airline[i]=='SpiceJet' or dummy_set.Airline[i]=='Air Asia' or dummy_set.Airline[i]=='GoAir' or dummy_set.Airline[i]=='Trujet':\n",
    "        airline.append(1)\n",
    "    elif dummy_set.Airline[i]=='Vistara Premium economy' or dummy_set.Airline[i]=='Jet Airways' or dummy_set.Airline[i]=='Multiple carriers' or dummy_set.Airline[i]=='Air India' or dummy_set.Airline[i]=='Multiple carriers Premium economy':\n",
    "        airline.append(2)\n",
    "    elif dummy_set.Airline[i]=='Jet Airways Business':\n",
    "        airline.append(3)\n",
    "        "
   ]
  },
  {
   "cell_type": "code",
   "execution_count": 38,
   "metadata": {},
   "outputs": [
    {
     "name": "stdout",
     "output_type": "stream",
     "text": [
      "10682\n"
     ]
    }
   ],
   "source": [
    "print(len(airline))"
   ]
  },
  {
   "cell_type": "code",
   "execution_count": 39,
   "metadata": {},
   "outputs": [
    {
     "name": "stdout",
     "output_type": "stream",
     "text": [
      "<class 'pandas.core.frame.DataFrame'>\n",
      "DatetimeIndex: 10682 entries, 2019-01-03 to 2019-12-06\n",
      "Data columns (total 1 columns):\n",
      "New_airline    10682 non-null int64\n",
      "dtypes: int64(1)\n",
      "memory usage: 166.9 KB\n"
     ]
    }
   ],
   "source": [
    "New_airline=pd.DataFrame(airline,columns=['New_airline'])\n",
    "New_airline.set_index(dummy_set.index,inplace=True)\n",
    "New_airline.info()\n",
    "dummy_set=pd.concat([dummy_set,New_airline],axis=1, join_axes=[dummy_set.index])\n"
   ]
  },
  {
   "cell_type": "code",
   "execution_count": 40,
   "metadata": {},
   "outputs": [],
   "source": [
    "dummy_set.drop(['Airline'],axis=1,inplace=True)"
   ]
  },
  {
   "cell_type": "code",
   "execution_count": 41,
   "metadata": {},
   "outputs": [],
   "source": [
    "dummy_set.drop(['Dep_Time','Arrival_Time'],axis=1,inplace=True)"
   ]
  },
  {
   "cell_type": "code",
   "execution_count": 42,
   "metadata": {},
   "outputs": [],
   "source": [
    "dummy_set.drop(['Duration_in_min'],axis=1,inplace=True)"
   ]
  },
  {
   "cell_type": "code",
   "execution_count": 43,
   "metadata": {},
   "outputs": [
    {
     "data": {
      "text/html": [
       "<div>\n",
       "<style scoped>\n",
       "    .dataframe tbody tr th:only-of-type {\n",
       "        vertical-align: middle;\n",
       "    }\n",
       "\n",
       "    .dataframe tbody tr th {\n",
       "        vertical-align: top;\n",
       "    }\n",
       "\n",
       "    .dataframe thead th {\n",
       "        text-align: right;\n",
       "    }\n",
       "</style>\n",
       "<table border=\"1\" class=\"dataframe\">\n",
       "  <thead>\n",
       "    <tr style=\"text-align: right;\">\n",
       "      <th></th>\n",
       "      <th>Source</th>\n",
       "      <th>Destination</th>\n",
       "      <th>Route</th>\n",
       "      <th>Additional_Info</th>\n",
       "      <th>Price</th>\n",
       "      <th>New_Total_Stops</th>\n",
       "      <th>New_Duration</th>\n",
       "      <th>New_airline</th>\n",
       "    </tr>\n",
       "    <tr>\n",
       "      <th>Date_of_Journey</th>\n",
       "      <th></th>\n",
       "      <th></th>\n",
       "      <th></th>\n",
       "      <th></th>\n",
       "      <th></th>\n",
       "      <th></th>\n",
       "      <th></th>\n",
       "      <th></th>\n",
       "    </tr>\n",
       "  </thead>\n",
       "  <tbody>\n",
       "    <tr>\n",
       "      <th>2019-01-03</th>\n",
       "      <td>Kolkata</td>\n",
       "      <td>Banglore</td>\n",
       "      <td>CCU → BLR</td>\n",
       "      <td>No info</td>\n",
       "      <td>5515</td>\n",
       "      <td>0</td>\n",
       "      <td>1</td>\n",
       "      <td>1</td>\n",
       "    </tr>\n",
       "    <tr>\n",
       "      <th>2019-01-03</th>\n",
       "      <td>Delhi</td>\n",
       "      <td>Cochin</td>\n",
       "      <td>DEL → BOM → COK</td>\n",
       "      <td>No info</td>\n",
       "      <td>29528</td>\n",
       "      <td>1</td>\n",
       "      <td>3</td>\n",
       "      <td>2</td>\n",
       "    </tr>\n",
       "    <tr>\n",
       "      <th>2019-01-03</th>\n",
       "      <td>Banglore</td>\n",
       "      <td>New Delhi</td>\n",
       "      <td>BLR → BOM → DEL</td>\n",
       "      <td>No info</td>\n",
       "      <td>26890</td>\n",
       "      <td>1</td>\n",
       "      <td>2</td>\n",
       "      <td>2</td>\n",
       "    </tr>\n",
       "    <tr>\n",
       "      <th>2019-01-03</th>\n",
       "      <td>Banglore</td>\n",
       "      <td>New Delhi</td>\n",
       "      <td>BLR → BOM → IDR → DEL</td>\n",
       "      <td>No info</td>\n",
       "      <td>19372</td>\n",
       "      <td>2</td>\n",
       "      <td>6</td>\n",
       "      <td>2</td>\n",
       "    </tr>\n",
       "    <tr>\n",
       "      <th>2019-01-03</th>\n",
       "      <td>Banglore</td>\n",
       "      <td>New Delhi</td>\n",
       "      <td>BLR → DEL</td>\n",
       "      <td>No info</td>\n",
       "      <td>10067</td>\n",
       "      <td>0</td>\n",
       "      <td>1</td>\n",
       "      <td>1</td>\n",
       "    </tr>\n",
       "  </tbody>\n",
       "</table>\n",
       "</div>"
      ],
      "text/plain": [
       "                   Source Destination                  Route Additional_Info  \\\n",
       "Date_of_Journey                                                                \n",
       "2019-01-03        Kolkata    Banglore              CCU → BLR         No info   \n",
       "2019-01-03          Delhi      Cochin        DEL → BOM → COK         No info   \n",
       "2019-01-03       Banglore   New Delhi        BLR → BOM → DEL         No info   \n",
       "2019-01-03       Banglore   New Delhi  BLR → BOM → IDR → DEL         No info   \n",
       "2019-01-03       Banglore   New Delhi              BLR → DEL         No info   \n",
       "\n",
       "                 Price  New_Total_Stops  New_Duration  New_airline  \n",
       "Date_of_Journey                                                     \n",
       "2019-01-03        5515                0             1            1  \n",
       "2019-01-03       29528                1             3            2  \n",
       "2019-01-03       26890                1             2            2  \n",
       "2019-01-03       19372                2             6            2  \n",
       "2019-01-03       10067                0             1            1  "
      ]
     },
     "execution_count": 43,
     "metadata": {},
     "output_type": "execute_result"
    }
   ],
   "source": [
    "dummy_set.head()"
   ]
  },
  {
   "cell_type": "code",
   "execution_count": 44,
   "metadata": {},
   "outputs": [
    {
     "data": {
      "text/plain": [
       "<matplotlib.axes._subplots.AxesSubplot at 0x27c702cae80>"
      ]
     },
     "execution_count": 44,
     "metadata": {},
     "output_type": "execute_result"
    },
    {
     "data": {
      "image/png": "[encoded data removed]",
      "text/plain": [
       "<Figure size 432x288 with 1 Axes>"
      ]
     },
     "metadata": {},
     "output_type": "display_data"
    }
   ],
   "source": [
    "sns.barplot(x='Price',y='Additional_Info',data=dummy_set)"
   ]
  },
  {
   "cell_type": "code",
   "execution_count": 45,
   "metadata": {},
   "outputs": [
    {
     "data": {
      "text/plain": [
       "<matplotlib.axes._subplots.AxesSubplot at 0x27c7037b828>"
      ]
     },
     "execution_count": 45,
     "metadata": {},
     "output_type": "execute_result"
    },
    {
     "data": {
      "image/png": "[encoded data removed]",
      "text/plain": [
       "<Figure size 432x288 with 1 Axes>"
      ]
     },
     "metadata": {},
     "output_type": "display_data"
    }
   ],
   "source": [
    "sns.barplot(x='New_airline',y='Price',data=dummy_set)"
   ]
  },
  {
   "cell_type": "code",
   "execution_count": 46,
   "metadata": {},
   "outputs": [
    {
     "data": {
      "text/plain": [
       "<matplotlib.axes._subplots.AxesSubplot at 0x27c703cce80>"
      ]
     },
     "execution_count": 46,
     "metadata": {},
     "output_type": "execute_result"
    },
    {
     "data": {
      "image/png": "[encoded data removed]",
      "text/plain": [
       "<Figure size 432x288 with 1 Axes>"
      ]
     },
     "metadata": {},
     "output_type": "display_data"
    }
   ],
   "source": [
    "sns.barplot(x='New_Total_Stops',y='Price',data=dummy_set)"
   ]
  },
  {
   "cell_type": "code",
   "execution_count": 47,
   "metadata": {},
   "outputs": [
    {
     "data": {
      "text/plain": [
       "<matplotlib.axes._subplots.AxesSubplot at 0x27c70443898>"
      ]
     },
     "execution_count": 47,
     "metadata": {},
     "output_type": "execute_result"
    },
    {
     "data": {
      "image/png": "[encoded data removed]",
      "text/plain": [
       "<Figure size 432x288 with 1 Axes>"
      ]
     },
     "metadata": {},
     "output_type": "display_data"
    }
   ],
   "source": [
    "sns.barplot(y='Price',x='New_Duration',data=dummy_set)\n"
   ]
  },
  {
   "cell_type": "code",
   "execution_count": 48,
   "metadata": {},
   "outputs": [],
   "source": [
    "duration_compressed=[]\n",
    "for i in range(0,10682):\n",
    "    if dummy_set.New_Duration[i]>=2 and dummy_set.New_Duration[i]<=9:\n",
    "        duration_compressed.append(2)\n",
    "    elif dummy_set.New_Duration[i]>=1 and dummy_set.New_Duration[i]<2:\n",
    "        duration_compressed.append(1)\n",
    "    else:\n",
    "        duration_compressed.append(3)"
   ]
  },
  {
   "cell_type": "code",
   "execution_count": 49,
   "metadata": {},
   "outputs": [],
   "source": [
    "len(duration_compressed)\n",
    "New_Duration_compressed=pd.DataFrame(duration_compressed,columns=['New_Duration_compressed'])\n",
    "New_Duration_compressed.set_index(training_set.index,inplace=True)\n",
    "dummy_set=pd.concat([dummy_set,New_Duration_compressed],axis=1, join_axes=[dummy_set.index])"
   ]
  },
  {
   "cell_type": "code",
   "execution_count": 50,
   "metadata": {},
   "outputs": [
    {
     "data": {
      "text/html": [
       "<div>\n",
       "<style scoped>\n",
       "    .dataframe tbody tr th:only-of-type {\n",
       "        vertical-align: middle;\n",
       "    }\n",
       "\n",
       "    .dataframe tbody tr th {\n",
       "        vertical-align: top;\n",
       "    }\n",
       "\n",
       "    .dataframe thead th {\n",
       "        text-align: right;\n",
       "    }\n",
       "</style>\n",
       "<table border=\"1\" class=\"dataframe\">\n",
       "  <thead>\n",
       "    <tr style=\"text-align: right;\">\n",
       "      <th></th>\n",
       "      <th>Source</th>\n",
       "      <th>Destination</th>\n",
       "      <th>Route</th>\n",
       "      <th>Additional_Info</th>\n",
       "      <th>Price</th>\n",
       "      <th>New_Total_Stops</th>\n",
       "      <th>New_Duration</th>\n",
       "      <th>New_airline</th>\n",
       "      <th>New_Duration_compressed</th>\n",
       "    </tr>\n",
       "    <tr>\n",
       "      <th>Date_of_Journey</th>\n",
       "      <th></th>\n",
       "      <th></th>\n",
       "      <th></th>\n",
       "      <th></th>\n",
       "      <th></th>\n",
       "      <th></th>\n",
       "      <th></th>\n",
       "      <th></th>\n",
       "      <th></th>\n",
       "    </tr>\n",
       "  </thead>\n",
       "  <tbody>\n",
       "    <tr>\n",
       "      <th>2019-01-03</th>\n",
       "      <td>Kolkata</td>\n",
       "      <td>Banglore</td>\n",
       "      <td>CCU → BLR</td>\n",
       "      <td>No info</td>\n",
       "      <td>5515</td>\n",
       "      <td>0</td>\n",
       "      <td>1</td>\n",
       "      <td>1</td>\n",
       "      <td>1</td>\n",
       "    </tr>\n",
       "    <tr>\n",
       "      <th>2019-01-03</th>\n",
       "      <td>Delhi</td>\n",
       "      <td>Cochin</td>\n",
       "      <td>DEL → BOM → COK</td>\n",
       "      <td>No info</td>\n",
       "      <td>29528</td>\n",
       "      <td>1</td>\n",
       "      <td>3</td>\n",
       "      <td>2</td>\n",
       "      <td>2</td>\n",
       "    </tr>\n",
       "    <tr>\n",
       "      <th>2019-01-03</th>\n",
       "      <td>Banglore</td>\n",
       "      <td>New Delhi</td>\n",
       "      <td>BLR → BOM → DEL</td>\n",
       "      <td>No info</td>\n",
       "      <td>26890</td>\n",
       "      <td>1</td>\n",
       "      <td>2</td>\n",
       "      <td>2</td>\n",
       "      <td>2</td>\n",
       "    </tr>\n",
       "    <tr>\n",
       "      <th>2019-01-03</th>\n",
       "      <td>Banglore</td>\n",
       "      <td>New Delhi</td>\n",
       "      <td>BLR → BOM → IDR → DEL</td>\n",
       "      <td>No info</td>\n",
       "      <td>19372</td>\n",
       "      <td>2</td>\n",
       "      <td>6</td>\n",
       "      <td>2</td>\n",
       "      <td>2</td>\n",
       "    </tr>\n",
       "    <tr>\n",
       "      <th>2019-01-03</th>\n",
       "      <td>Banglore</td>\n",
       "      <td>New Delhi</td>\n",
       "      <td>BLR → DEL</td>\n",
       "      <td>No info</td>\n",
       "      <td>10067</td>\n",
       "      <td>0</td>\n",
       "      <td>1</td>\n",
       "      <td>1</td>\n",
       "      <td>1</td>\n",
       "    </tr>\n",
       "  </tbody>\n",
       "</table>\n",
       "</div>"
      ],
      "text/plain": [
       "                   Source Destination                  Route Additional_Info  \\\n",
       "Date_of_Journey                                                                \n",
       "2019-01-03        Kolkata    Banglore              CCU → BLR         No info   \n",
       "2019-01-03          Delhi      Cochin        DEL → BOM → COK         No info   \n",
       "2019-01-03       Banglore   New Delhi        BLR → BOM → DEL         No info   \n",
       "2019-01-03       Banglore   New Delhi  BLR → BOM → IDR → DEL         No info   \n",
       "2019-01-03       Banglore   New Delhi              BLR → DEL         No info   \n",
       "\n",
       "                 Price  New_Total_Stops  New_Duration  New_airline  \\\n",
       "Date_of_Journey                                                      \n",
       "2019-01-03        5515                0             1            1   \n",
       "2019-01-03       29528                1             3            2   \n",
       "2019-01-03       26890                1             2            2   \n",
       "2019-01-03       19372                2             6            2   \n",
       "2019-01-03       10067                0             1            1   \n",
       "\n",
       "                 New_Duration_compressed  \n",
       "Date_of_Journey                           \n",
       "2019-01-03                             1  \n",
       "2019-01-03                             2  \n",
       "2019-01-03                             2  \n",
       "2019-01-03                             2  \n",
       "2019-01-03                             1  "
      ]
     },
     "execution_count": 50,
     "metadata": {},
     "output_type": "execute_result"
    }
   ],
   "source": [
    "dummy_set.head()"
   ]
  },
  {
   "cell_type": "code",
   "execution_count": 51,
   "metadata": {},
   "outputs": [
    {
     "data": {
      "text/plain": [
       "<matplotlib.axes._subplots.AxesSubplot at 0x27c70425ba8>"
      ]
     },
     "execution_count": 51,
     "metadata": {},
     "output_type": "execute_result"
    },
    {
     "data": {
      "image/png": "[encoded data removed]",
      "text/plain": [
       "<Figure size 432x288 with 1 Axes>"
      ]
     },
     "metadata": {},
     "output_type": "display_data"
    }
   ],
   "source": [
    "sns.barplot(x='New_Duration_compressed',y='Price',data=dummy_set)"
   ]
  },
  {
   "cell_type": "code",
   "execution_count": 52,
   "metadata": {},
   "outputs": [],
   "source": [
    "dummy_set['New_airline']=pd.Categorical(dummy_set['New_airline'])\n",
    "dfDummies = pd.get_dummies(dummy_set['New_airline'], prefix = 'Airline')\n",
    "dummy_set = pd.concat([dummy_set, dfDummies], axis=1)"
   ]
  },
  {
   "cell_type": "code",
   "execution_count": 53,
   "metadata": {},
   "outputs": [
    {
     "data": {
      "text/html": [
       "<div>\n",
       "<style scoped>\n",
       "    .dataframe tbody tr th:only-of-type {\n",
       "        vertical-align: middle;\n",
       "    }\n",
       "\n",
       "    .dataframe tbody tr th {\n",
       "        vertical-align: top;\n",
       "    }\n",
       "\n",
       "    .dataframe thead th {\n",
       "        text-align: right;\n",
       "    }\n",
       "</style>\n",
       "<table border=\"1\" class=\"dataframe\">\n",
       "  <thead>\n",
       "    <tr style=\"text-align: right;\">\n",
       "      <th></th>\n",
       "      <th>Source</th>\n",
       "      <th>Destination</th>\n",
       "      <th>Route</th>\n",
       "      <th>Additional_Info</th>\n",
       "      <th>Price</th>\n",
       "      <th>New_Total_Stops</th>\n",
       "      <th>New_Duration</th>\n",
       "      <th>New_airline</th>\n",
       "      <th>New_Duration_compressed</th>\n",
       "      <th>Airline_1</th>\n",
       "      <th>Airline_2</th>\n",
       "      <th>Airline_3</th>\n",
       "    </tr>\n",
       "    <tr>\n",
       "      <th>Date_of_Journey</th>\n",
       "      <th></th>\n",
       "      <th></th>\n",
       "      <th></th>\n",
       "      <th></th>\n",
       "      <th></th>\n",
       "      <th></th>\n",
       "      <th></th>\n",
       "      <th></th>\n",
       "      <th></th>\n",
       "      <th></th>\n",
       "      <th></th>\n",
       "      <th></th>\n",
       "    </tr>\n",
       "  </thead>\n",
       "  <tbody>\n",
       "    <tr>\n",
       "      <th>2019-01-03</th>\n",
       "      <td>Kolkata</td>\n",
       "      <td>Banglore</td>\n",
       "      <td>CCU → BLR</td>\n",
       "      <td>No info</td>\n",
       "      <td>5515</td>\n",
       "      <td>0</td>\n",
       "      <td>1</td>\n",
       "      <td>1</td>\n",
       "      <td>1</td>\n",
       "      <td>1</td>\n",
       "      <td>0</td>\n",
       "      <td>0</td>\n",
       "    </tr>\n",
       "    <tr>\n",
       "      <th>2019-01-03</th>\n",
       "      <td>Delhi</td>\n",
       "      <td>Cochin</td>\n",
       "      <td>DEL → BOM → COK</td>\n",
       "      <td>No info</td>\n",
       "      <td>29528</td>\n",
       "      <td>1</td>\n",
       "      <td>3</td>\n",
       "      <td>2</td>\n",
       "      <td>2</td>\n",
       "      <td>0</td>\n",
       "      <td>1</td>\n",
       "      <td>0</td>\n",
       "    </tr>\n",
       "    <tr>\n",
       "      <th>2019-01-03</th>\n",
       "      <td>Banglore</td>\n",
       "      <td>New Delhi</td>\n",
       "      <td>BLR → BOM → DEL</td>\n",
       "      <td>No info</td>\n",
       "      <td>26890</td>\n",
       "      <td>1</td>\n",
       "      <td>2</td>\n",
       "      <td>2</td>\n",
       "      <td>2</td>\n",
       "      <td>0</td>\n",
       "      <td>1</td>\n",
       "      <td>0</td>\n",
       "    </tr>\n",
       "    <tr>\n",
       "      <th>2019-01-03</th>\n",
       "      <td>Banglore</td>\n",
       "      <td>New Delhi</td>\n",
       "      <td>BLR → BOM → IDR → DEL</td>\n",
       "      <td>No info</td>\n",
       "      <td>19372</td>\n",
       "      <td>2</td>\n",
       "      <td>6</td>\n",
       "      <td>2</td>\n",
       "      <td>2</td>\n",
       "      <td>0</td>\n",
       "      <td>1</td>\n",
       "      <td>0</td>\n",
       "    </tr>\n",
       "    <tr>\n",
       "      <th>2019-01-03</th>\n",
       "      <td>Banglore</td>\n",
       "      <td>New Delhi</td>\n",
       "      <td>BLR → DEL</td>\n",
       "      <td>No info</td>\n",
       "      <td>10067</td>\n",
       "      <td>0</td>\n",
       "      <td>1</td>\n",
       "      <td>1</td>\n",
       "      <td>1</td>\n",
       "      <td>1</td>\n",
       "      <td>0</td>\n",
       "      <td>0</td>\n",
       "    </tr>\n",
       "  </tbody>\n",
       "</table>\n",
       "</div>"
      ],
      "text/plain": [
       "                   Source Destination                  Route Additional_Info  \\\n",
       "Date_of_Journey                                                                \n",
       "2019-01-03        Kolkata    Banglore              CCU → BLR         No info   \n",
       "2019-01-03          Delhi      Cochin        DEL → BOM → COK         No info   \n",
       "2019-01-03       Banglore   New Delhi        BLR → BOM → DEL         No info   \n",
       "2019-01-03       Banglore   New Delhi  BLR → BOM → IDR → DEL         No info   \n",
       "2019-01-03       Banglore   New Delhi              BLR → DEL         No info   \n",
       "\n",
       "                 Price  New_Total_Stops  New_Duration New_airline  \\\n",
       "Date_of_Journey                                                     \n",
       "2019-01-03        5515                0             1           1   \n",
       "2019-01-03       29528                1             3           2   \n",
       "2019-01-03       26890                1             2           2   \n",
       "2019-01-03       19372                2             6           2   \n",
       "2019-01-03       10067                0             1           1   \n",
       "\n",
       "                 New_Duration_compressed  Airline_1  Airline_2  Airline_3  \n",
       "Date_of_Journey                                                            \n",
       "2019-01-03                             1          1          0          0  \n",
       "2019-01-03                             2          0          1          0  \n",
       "2019-01-03                             2          0          1          0  \n",
       "2019-01-03                             2          0          1          0  \n",
       "2019-01-03                             1          1          0          0  "
      ]
     },
     "execution_count": 53,
     "metadata": {},
     "output_type": "execute_result"
    }
   ],
   "source": [
    "dummy_set.head()"
   ]
  },
  {
   "cell_type": "code",
   "execution_count": 54,
   "metadata": {},
   "outputs": [],
   "source": [
    "dummy_set['New_Duration_compressed']=pd.Categorical(dummy_set['New_Duration_compressed'])\n",
    "dfDummies = pd.get_dummies(dummy_set['New_Duration_compressed'], prefix = 'Duration')\n",
    "dummy_set = pd.concat([dummy_set, dfDummies], axis=1)"
   ]
  },
  {
   "cell_type": "code",
   "execution_count": 55,
   "metadata": {},
   "outputs": [],
   "source": [
    "dummy_set.drop(['New_Duration','New_Duration_compressed','New_airline'],axis=1,inplace=True)"
   ]
  },
  {
   "cell_type": "code",
   "execution_count": 56,
   "metadata": {},
   "outputs": [],
   "source": [
    "dummy_set['New_Total_Stops']=pd.Categorical(dummy_set['New_Total_Stops'])\n",
    "dfDummies = pd.get_dummies(dummy_set['New_Total_Stops'], prefix = 'Stops')\n",
    "dummy_set = pd.concat([dummy_set, dfDummies], axis=1)"
   ]
  },
  {
   "cell_type": "code",
   "execution_count": 57,
   "metadata": {},
   "outputs": [
    {
     "data": {
      "text/html": [
       "<div>\n",
       "<style scoped>\n",
       "    .dataframe tbody tr th:only-of-type {\n",
       "        vertical-align: middle;\n",
       "    }\n",
       "\n",
       "    .dataframe tbody tr th {\n",
       "        vertical-align: top;\n",
       "    }\n",
       "\n",
       "    .dataframe thead th {\n",
       "        text-align: right;\n",
       "    }\n",
       "</style>\n",
       "<table border=\"1\" class=\"dataframe\">\n",
       "  <thead>\n",
       "    <tr style=\"text-align: right;\">\n",
       "      <th></th>\n",
       "      <th>Source</th>\n",
       "      <th>Destination</th>\n",
       "      <th>Route</th>\n",
       "      <th>Additional_Info</th>\n",
       "      <th>Price</th>\n",
       "      <th>New_Total_Stops</th>\n",
       "      <th>Airline_1</th>\n",
       "      <th>Airline_2</th>\n",
       "      <th>Airline_3</th>\n",
       "      <th>Duration_1</th>\n",
       "      <th>Duration_2</th>\n",
       "      <th>Duration_3</th>\n",
       "      <th>Stops_0</th>\n",
       "      <th>Stops_1</th>\n",
       "      <th>Stops_2</th>\n",
       "      <th>Stops_3</th>\n",
       "      <th>Stops_4</th>\n",
       "    </tr>\n",
       "    <tr>\n",
       "      <th>Date_of_Journey</th>\n",
       "      <th></th>\n",
       "      <th></th>\n",
       "      <th></th>\n",
       "      <th></th>\n",
       "      <th></th>\n",
       "      <th></th>\n",
       "      <th></th>\n",
       "      <th></th>\n",
       "      <th></th>\n",
       "      <th></th>\n",
       "      <th></th>\n",
       "      <th></th>\n",
       "      <th></th>\n",
       "      <th></th>\n",
       "      <th></th>\n",
       "      <th></th>\n",
       "      <th></th>\n",
       "    </tr>\n",
       "  </thead>\n",
       "  <tbody>\n",
       "    <tr>\n",
       "      <th>2019-01-03</th>\n",
       "      <td>Kolkata</td>\n",
       "      <td>Banglore</td>\n",
       "      <td>CCU → BLR</td>\n",
       "      <td>No info</td>\n",
       "      <td>5515</td>\n",
       "      <td>0</td>\n",
       "      <td>1</td>\n",
       "      <td>0</td>\n",
       "      <td>0</td>\n",
       "      <td>1</td>\n",
       "      <td>0</td>\n",
       "      <td>0</td>\n",
       "      <td>1</td>\n",
       "      <td>0</td>\n",
       "      <td>0</td>\n",
       "      <td>0</td>\n",
       "      <td>0</td>\n",
       "    </tr>\n",
       "    <tr>\n",
       "      <th>2019-01-03</th>\n",
       "      <td>Delhi</td>\n",
       "      <td>Cochin</td>\n",
       "      <td>DEL → BOM → COK</td>\n",
       "      <td>No info</td>\n",
       "      <td>29528</td>\n",
       "      <td>1</td>\n",
       "      <td>0</td>\n",
       "      <td>1</td>\n",
       "      <td>0</td>\n",
       "      <td>0</td>\n",
       "      <td>1</td>\n",
       "      <td>0</td>\n",
       "      <td>0</td>\n",
       "      <td>1</td>\n",
       "      <td>0</td>\n",
       "      <td>0</td>\n",
       "      <td>0</td>\n",
       "    </tr>\n",
       "    <tr>\n",
       "      <th>2019-01-03</th>\n",
       "      <td>Banglore</td>\n",
       "      <td>New Delhi</td>\n",
       "      <td>BLR → BOM → DEL</td>\n",
       "      <td>No info</td>\n",
       "      <td>26890</td>\n",
       "      <td>1</td>\n",
       "      <td>0</td>\n",
       "      <td>1</td>\n",
       "      <td>0</td>\n",
       "      <td>0</td>\n",
       "      <td>1</td>\n",
       "      <td>0</td>\n",
       "      <td>0</td>\n",
       "      <td>1</td>\n",
       "      <td>0</td>\n",
       "      <td>0</td>\n",
       "      <td>0</td>\n",
       "    </tr>\n",
       "    <tr>\n",
       "      <th>2019-01-03</th>\n",
       "      <td>Banglore</td>\n",
       "      <td>New Delhi</td>\n",
       "      <td>BLR → BOM → IDR → DEL</td>\n",
       "      <td>No info</td>\n",
       "      <td>19372</td>\n",
       "      <td>2</td>\n",
       "      <td>0</td>\n",
       "      <td>1</td>\n",
       "      <td>0</td>\n",
       "      <td>0</td>\n",
       "      <td>1</td>\n",
       "      <td>0</td>\n",
       "      <td>0</td>\n",
       "      <td>0</td>\n",
       "      <td>1</td>\n",
       "      <td>0</td>\n",
       "      <td>0</td>\n",
       "    </tr>\n",
       "    <tr>\n",
       "      <th>2019-01-03</th>\n",
       "      <td>Banglore</td>\n",
       "      <td>New Delhi</td>\n",
       "      <td>BLR → DEL</td>\n",
       "      <td>No info</td>\n",
       "      <td>10067</td>\n",
       "      <td>0</td>\n",
       "      <td>1</td>\n",
       "      <td>0</td>\n",
       "      <td>0</td>\n",
       "      <td>1</td>\n",
       "      <td>0</td>\n",
       "      <td>0</td>\n",
       "      <td>1</td>\n",
       "      <td>0</td>\n",
       "      <td>0</td>\n",
       "      <td>0</td>\n",
       "      <td>0</td>\n",
       "    </tr>\n",
       "  </tbody>\n",
       "</table>\n",
       "</div>"
      ],
      "text/plain": [
       "                   Source Destination                  Route Additional_Info  \\\n",
       "Date_of_Journey                                                                \n",
       "2019-01-03        Kolkata    Banglore              CCU → BLR         No info   \n",
       "2019-01-03          Delhi      Cochin        DEL → BOM → COK         No info   \n",
       "2019-01-03       Banglore   New Delhi        BLR → BOM → DEL         No info   \n",
       "2019-01-03       Banglore   New Delhi  BLR → BOM → IDR → DEL         No info   \n",
       "2019-01-03       Banglore   New Delhi              BLR → DEL         No info   \n",
       "\n",
       "                 Price New_Total_Stops  Airline_1  Airline_2  Airline_3  \\\n",
       "Date_of_Journey                                                           \n",
       "2019-01-03        5515               0          1          0          0   \n",
       "2019-01-03       29528               1          0          1          0   \n",
       "2019-01-03       26890               1          0          1          0   \n",
       "2019-01-03       19372               2          0          1          0   \n",
       "2019-01-03       10067               0          1          0          0   \n",
       "\n",
       "                 Duration_1  Duration_2  Duration_3  Stops_0  Stops_1  \\\n",
       "Date_of_Journey                                                         \n",
       "2019-01-03                1           0           0        1        0   \n",
       "2019-01-03                0           1           0        0        1   \n",
       "2019-01-03                0           1           0        0        1   \n",
       "2019-01-03                0           1           0        0        0   \n",
       "2019-01-03                1           0           0        1        0   \n",
       "\n",
       "                 Stops_2  Stops_3  Stops_4  \n",
       "Date_of_Journey                             \n",
       "2019-01-03             0        0        0  \n",
       "2019-01-03             0        0        0  \n",
       "2019-01-03             0        0        0  \n",
       "2019-01-03             1        0        0  \n",
       "2019-01-03             0        0        0  "
      ]
     },
     "execution_count": 57,
     "metadata": {},
     "output_type": "execute_result"
    }
   ],
   "source": [
    "dummy_set.head()"
   ]
  },
  {
   "cell_type": "code",
   "execution_count": 58,
   "metadata": {},
   "outputs": [
    {
     "data": {
      "text/plain": [
       "<matplotlib.axes._subplots.AxesSubplot at 0x27c704cb898>"
      ]
     },
     "execution_count": 58,
     "metadata": {},
     "output_type": "execute_result"
    },
    {
     "data": {
      "image/png": "[encoded data removed]",
      "text/plain": [
       "<Figure size 432x288 with 1 Axes>"
      ]
     },
     "metadata": {},
     "output_type": "display_data"
    }
   ],
   "source": [
    "sns.barplot(x='Price',y='Additional_Info',data=dummy_set)"
   ]
  },
  {
   "cell_type": "code",
   "execution_count": 59,
   "metadata": {},
   "outputs": [],
   "source": [
    "info=[]\n",
    "for i in range(0,10682):\n",
    "    if dummy_set.Additional_Info[i]=='No info' or dummy_set.Additional_Info[i]=='No Info' or dummy_set.Additional_Info[i]=='Red-eye flight' or dummy_set.Additional_Info[i]=='In-flight meal not included':\n",
    "        info.append(1)\n",
    "    elif dummy_set.Additional_Info[i]=='Change airports' or dummy_set.Additional_Info[i]=='1 Long layover' or dummy_set.Additional_Info[i]=='2 Long layover' or dummy_set.Additional_Info[i]=='1 Short layover':\n",
    "        info.append(2)\n",
    "    elif dummy_set.Additional_Info[i]=='Business class':\n",
    "        info.append(3)\n",
    "    elif dummy_set.Additional_Info[i]=='No check-in baggage included':\n",
    "        info.append(4)\n",
    "        "
   ]
  },
  {
   "cell_type": "code",
   "execution_count": 60,
   "metadata": {},
   "outputs": [
    {
     "data": {
      "text/plain": [
       "10682"
      ]
     },
     "execution_count": 60,
     "metadata": {},
     "output_type": "execute_result"
    }
   ],
   "source": [
    "len(info)"
   ]
  },
  {
   "cell_type": "code",
   "execution_count": 61,
   "metadata": {},
   "outputs": [
    {
     "name": "stdout",
     "output_type": "stream",
     "text": [
      "<class 'pandas.core.frame.DataFrame'>\n",
      "DatetimeIndex: 10682 entries, 2019-01-03 to 2019-12-06\n",
      "Data columns (total 1 columns):\n",
      "New_info    10682 non-null int64\n",
      "dtypes: int64(1)\n",
      "memory usage: 166.9 KB\n"
     ]
    }
   ],
   "source": [
    "New_info=pd.DataFrame(info,columns=['New_info'])\n",
    "New_info.set_index(dummy_set.index,inplace=True)\n",
    "New_info.info()\n",
    "dummy_set=pd.concat([dummy_set,New_info],axis=1, join_axes=[dummy_set.index])"
   ]
  },
  {
   "cell_type": "code",
   "execution_count": 62,
   "metadata": {},
   "outputs": [],
   "source": [
    "dummy_set['New_info']=pd.Categorical(dummy_set['New_info'])\n",
    "dfDummies = pd.get_dummies(dummy_set['New_info'], prefix = 'Info')\n",
    "dummy_set = pd.concat([dummy_set, dfDummies], axis=1)"
   ]
  },
  {
   "cell_type": "code",
   "execution_count": 63,
   "metadata": {},
   "outputs": [],
   "source": [
    "dummy_set.drop(['Additional_Info','New_Total_Stops'],axis=1,inplace=True)"
   ]
  },
  {
   "cell_type": "code",
   "execution_count": 64,
   "metadata": {},
   "outputs": [
    {
     "data": {
      "text/html": [
       "<div>\n",
       "<style scoped>\n",
       "    .dataframe tbody tr th:only-of-type {\n",
       "        vertical-align: middle;\n",
       "    }\n",
       "\n",
       "    .dataframe tbody tr th {\n",
       "        vertical-align: top;\n",
       "    }\n",
       "\n",
       "    .dataframe thead th {\n",
       "        text-align: right;\n",
       "    }\n",
       "</style>\n",
       "<table border=\"1\" class=\"dataframe\">\n",
       "  <thead>\n",
       "    <tr style=\"text-align: right;\">\n",
       "      <th></th>\n",
       "      <th>Source</th>\n",
       "      <th>Destination</th>\n",
       "      <th>Route</th>\n",
       "      <th>Price</th>\n",
       "      <th>Airline_1</th>\n",
       "      <th>Airline_2</th>\n",
       "      <th>Airline_3</th>\n",
       "      <th>Duration_1</th>\n",
       "      <th>Duration_2</th>\n",
       "      <th>Duration_3</th>\n",
       "      <th>Stops_0</th>\n",
       "      <th>Stops_1</th>\n",
       "      <th>Stops_2</th>\n",
       "      <th>Stops_3</th>\n",
       "      <th>Stops_4</th>\n",
       "      <th>New_info</th>\n",
       "      <th>Info_1</th>\n",
       "      <th>Info_2</th>\n",
       "      <th>Info_3</th>\n",
       "      <th>Info_4</th>\n",
       "    </tr>\n",
       "    <tr>\n",
       "      <th>Date_of_Journey</th>\n",
       "      <th></th>\n",
       "      <th></th>\n",
       "      <th></th>\n",
       "      <th></th>\n",
       "      <th></th>\n",
       "      <th></th>\n",
       "      <th></th>\n",
       "      <th></th>\n",
       "      <th></th>\n",
       "      <th></th>\n",
       "      <th></th>\n",
       "      <th></th>\n",
       "      <th></th>\n",
       "      <th></th>\n",
       "      <th></th>\n",
       "      <th></th>\n",
       "      <th></th>\n",
       "      <th></th>\n",
       "      <th></th>\n",
       "      <th></th>\n",
       "    </tr>\n",
       "  </thead>\n",
       "  <tbody>\n",
       "    <tr>\n",
       "      <th>2019-01-03</th>\n",
       "      <td>Kolkata</td>\n",
       "      <td>Banglore</td>\n",
       "      <td>CCU → BLR</td>\n",
       "      <td>5515</td>\n",
       "      <td>1</td>\n",
       "      <td>0</td>\n",
       "      <td>0</td>\n",
       "      <td>1</td>\n",
       "      <td>0</td>\n",
       "      <td>0</td>\n",
       "      <td>1</td>\n",
       "      <td>0</td>\n",
       "      <td>0</td>\n",
       "      <td>0</td>\n",
       "      <td>0</td>\n",
       "      <td>1</td>\n",
       "      <td>1</td>\n",
       "      <td>0</td>\n",
       "      <td>0</td>\n",
       "      <td>0</td>\n",
       "    </tr>\n",
       "    <tr>\n",
       "      <th>2019-01-03</th>\n",
       "      <td>Delhi</td>\n",
       "      <td>Cochin</td>\n",
       "      <td>DEL → BOM → COK</td>\n",
       "      <td>29528</td>\n",
       "      <td>0</td>\n",
       "      <td>1</td>\n",
       "      <td>0</td>\n",
       "      <td>0</td>\n",
       "      <td>1</td>\n",
       "      <td>0</td>\n",
       "      <td>0</td>\n",
       "      <td>1</td>\n",
       "      <td>0</td>\n",
       "      <td>0</td>\n",
       "      <td>0</td>\n",
       "      <td>1</td>\n",
       "      <td>1</td>\n",
       "      <td>0</td>\n",
       "      <td>0</td>\n",
       "      <td>0</td>\n",
       "    </tr>\n",
       "    <tr>\n",
       "      <th>2019-01-03</th>\n",
       "      <td>Banglore</td>\n",
       "      <td>New Delhi</td>\n",
       "      <td>BLR → BOM → DEL</td>\n",
       "      <td>26890</td>\n",
       "      <td>0</td>\n",
       "      <td>1</td>\n",
       "      <td>0</td>\n",
       "      <td>0</td>\n",
       "      <td>1</td>\n",
       "      <td>0</td>\n",
       "      <td>0</td>\n",
       "      <td>1</td>\n",
       "      <td>0</td>\n",
       "      <td>0</td>\n",
       "      <td>0</td>\n",
       "      <td>1</td>\n",
       "      <td>1</td>\n",
       "      <td>0</td>\n",
       "      <td>0</td>\n",
       "      <td>0</td>\n",
       "    </tr>\n",
       "    <tr>\n",
       "      <th>2019-01-03</th>\n",
       "      <td>Banglore</td>\n",
       "      <td>New Delhi</td>\n",
       "      <td>BLR → BOM → IDR → DEL</td>\n",
       "      <td>19372</td>\n",
       "      <td>0</td>\n",
       "      <td>1</td>\n",
       "      <td>0</td>\n",
       "      <td>0</td>\n",
       "      <td>1</td>\n",
       "      <td>0</td>\n",
       "      <td>0</td>\n",
       "      <td>0</td>\n",
       "      <td>1</td>\n",
       "      <td>0</td>\n",
       "      <td>0</td>\n",
       "      <td>1</td>\n",
       "      <td>1</td>\n",
       "      <td>0</td>\n",
       "      <td>0</td>\n",
       "      <td>0</td>\n",
       "    </tr>\n",
       "    <tr>\n",
       "      <th>2019-01-03</th>\n",
       "      <td>Banglore</td>\n",
       "      <td>New Delhi</td>\n",
       "      <td>BLR → DEL</td>\n",
       "      <td>10067</td>\n",
       "      <td>1</td>\n",
       "      <td>0</td>\n",
       "      <td>0</td>\n",
       "      <td>1</td>\n",
       "      <td>0</td>\n",
       "      <td>0</td>\n",
       "      <td>1</td>\n",
       "      <td>0</td>\n",
       "      <td>0</td>\n",
       "      <td>0</td>\n",
       "      <td>0</td>\n",
       "      <td>1</td>\n",
       "      <td>1</td>\n",
       "      <td>0</td>\n",
       "      <td>0</td>\n",
       "      <td>0</td>\n",
       "    </tr>\n",
       "  </tbody>\n",
       "</table>\n",
       "</div>"
      ],
      "text/plain": [
       "                   Source Destination                  Route  Price  \\\n",
       "Date_of_Journey                                                       \n",
       "2019-01-03        Kolkata    Banglore              CCU → BLR   5515   \n",
       "2019-01-03          Delhi      Cochin        DEL → BOM → COK  29528   \n",
       "2019-01-03       Banglore   New Delhi        BLR → BOM → DEL  26890   \n",
       "2019-01-03       Banglore   New Delhi  BLR → BOM → IDR → DEL  19372   \n",
       "2019-01-03       Banglore   New Delhi              BLR → DEL  10067   \n",
       "\n",
       "                 Airline_1  Airline_2  Airline_3  Duration_1  Duration_2  \\\n",
       "Date_of_Journey                                                            \n",
       "2019-01-03               1          0          0           1           0   \n",
       "2019-01-03               0          1          0           0           1   \n",
       "2019-01-03               0          1          0           0           1   \n",
       "2019-01-03               0          1          0           0           1   \n",
       "2019-01-03               1          0          0           1           0   \n",
       "\n",
       "                 Duration_3  Stops_0  Stops_1  Stops_2  Stops_3  Stops_4  \\\n",
       "Date_of_Journey                                                            \n",
       "2019-01-03                0        1        0        0        0        0   \n",
       "2019-01-03                0        0        1        0        0        0   \n",
       "2019-01-03                0        0        1        0        0        0   \n",
       "2019-01-03                0        0        0        1        0        0   \n",
       "2019-01-03                0        1        0        0        0        0   \n",
       "\n",
       "                New_info  Info_1  Info_2  Info_3  Info_4  \n",
       "Date_of_Journey                                           \n",
       "2019-01-03             1       1       0       0       0  \n",
       "2019-01-03             1       1       0       0       0  \n",
       "2019-01-03             1       1       0       0       0  \n",
       "2019-01-03             1       1       0       0       0  \n",
       "2019-01-03             1       1       0       0       0  "
      ]
     },
     "execution_count": 64,
     "metadata": {},
     "output_type": "execute_result"
    }
   ],
   "source": [
    "dummy_set.head()"
   ]
  },
  {
   "cell_type": "code",
   "execution_count": 65,
   "metadata": {},
   "outputs": [],
   "source": [
    "dummy_set.drop(['Route'],axis=1,inplace=True)"
   ]
  },
  {
   "cell_type": "code",
   "execution_count": 66,
   "metadata": {},
   "outputs": [],
   "source": [
    "dummy_set.drop(['New_info'],axis=1,inplace=True)"
   ]
  },
  {
   "cell_type": "code",
   "execution_count": 274,
   "metadata": {},
   "outputs": [
    {
     "data": {
      "text/plain": [
       "12642.593316519546"
      ]
     },
     "execution_count": 274,
     "metadata": {},
     "output_type": "execute_result"
    }
   ],
   "source": [
    "training_set[(training_set.Source=='Delhi')&(training_set.Airline=='Jet Airways')].Price.mean()"
   ]
  },
  {
   "cell_type": "code",
   "execution_count": 67,
   "metadata": {},
   "outputs": [
    {
     "data": {
      "text/plain": [
       "<matplotlib.axes._subplots.AxesSubplot at 0x27c702e34a8>"
      ]
     },
     "execution_count": 67,
     "metadata": {},
     "output_type": "execute_result"
    },
    {
     "data": {
      "image/png": "[encoded data removed]",
      "text/plain": [
       "<Figure size 432x288 with 1 Axes>"
      ]
     },
     "metadata": {},
     "output_type": "display_data"
    }
   ],
   "source": [
    "sns.barplot(x='Source',y='Price',data=dummy_set)"
   ]
  },
  {
   "cell_type": "code",
   "execution_count": 68,
   "metadata": {},
   "outputs": [
    {
     "data": {
      "text/plain": [
       "<matplotlib.axes._subplots.AxesSubplot at 0x27c7160e3c8>"
      ]
     },
     "execution_count": 68,
     "metadata": {},
     "output_type": "execute_result"
    },
    {
     "data": {
      "image/png": "[encoded data removed]",
      "text/plain": [
       "<Figure size 432x288 with 1 Axes>"
      ]
     },
     "metadata": {},
     "output_type": "display_data"
    }
   ],
   "source": [
    "sns.barplot(x='Destination',y='Price',data=dummy_set)"
   ]
  },
  {
   "cell_type": "code",
   "execution_count": 69,
   "metadata": {},
   "outputs": [],
   "source": [
    "dummy_set1=dummy_set.copy()"
   ]
  },
  {
   "cell_type": "code",
   "execution_count": 70,
   "metadata": {},
   "outputs": [],
   "source": [
    "dummy_set1.drop(['Source','Destination'],axis=1,inplace=True)"
   ]
  },
  {
   "cell_type": "code",
   "execution_count": 71,
   "metadata": {},
   "outputs": [
    {
     "data": {
      "text/html": [
       "<div>\n",
       "<style scoped>\n",
       "    .dataframe tbody tr th:only-of-type {\n",
       "        vertical-align: middle;\n",
       "    }\n",
       "\n",
       "    .dataframe tbody tr th {\n",
       "        vertical-align: top;\n",
       "    }\n",
       "\n",
       "    .dataframe thead th {\n",
       "        text-align: right;\n",
       "    }\n",
       "</style>\n",
       "<table border=\"1\" class=\"dataframe\">\n",
       "  <thead>\n",
       "    <tr style=\"text-align: right;\">\n",
       "      <th></th>\n",
       "      <th>Price</th>\n",
       "      <th>Airline_1</th>\n",
       "      <th>Airline_2</th>\n",
       "      <th>Airline_3</th>\n",
       "      <th>Duration_1</th>\n",
       "      <th>Duration_2</th>\n",
       "      <th>Duration_3</th>\n",
       "      <th>Stops_0</th>\n",
       "      <th>Stops_1</th>\n",
       "      <th>Stops_2</th>\n",
       "      <th>Stops_3</th>\n",
       "      <th>Stops_4</th>\n",
       "      <th>Info_1</th>\n",
       "      <th>Info_2</th>\n",
       "      <th>Info_3</th>\n",
       "      <th>Info_4</th>\n",
       "    </tr>\n",
       "    <tr>\n",
       "      <th>Date_of_Journey</th>\n",
       "      <th></th>\n",
       "      <th></th>\n",
       "      <th></th>\n",
       "      <th></th>\n",
       "      <th></th>\n",
       "      <th></th>\n",
       "      <th></th>\n",
       "      <th></th>\n",
       "      <th></th>\n",
       "      <th></th>\n",
       "      <th></th>\n",
       "      <th></th>\n",
       "      <th></th>\n",
       "      <th></th>\n",
       "      <th></th>\n",
       "      <th></th>\n",
       "    </tr>\n",
       "  </thead>\n",
       "  <tbody>\n",
       "    <tr>\n",
       "      <th>2019-01-03</th>\n",
       "      <td>5515</td>\n",
       "      <td>1</td>\n",
       "      <td>0</td>\n",
       "      <td>0</td>\n",
       "      <td>1</td>\n",
       "      <td>0</td>\n",
       "      <td>0</td>\n",
       "      <td>1</td>\n",
       "      <td>0</td>\n",
       "      <td>0</td>\n",
       "      <td>0</td>\n",
       "      <td>0</td>\n",
       "      <td>1</td>\n",
       "      <td>0</td>\n",
       "      <td>0</td>\n",
       "      <td>0</td>\n",
       "    </tr>\n",
       "    <tr>\n",
       "      <th>2019-01-03</th>\n",
       "      <td>29528</td>\n",
       "      <td>0</td>\n",
       "      <td>1</td>\n",
       "      <td>0</td>\n",
       "      <td>0</td>\n",
       "      <td>1</td>\n",
       "      <td>0</td>\n",
       "      <td>0</td>\n",
       "      <td>1</td>\n",
       "      <td>0</td>\n",
       "      <td>0</td>\n",
       "      <td>0</td>\n",
       "      <td>1</td>\n",
       "      <td>0</td>\n",
       "      <td>0</td>\n",
       "      <td>0</td>\n",
       "    </tr>\n",
       "    <tr>\n",
       "      <th>2019-01-03</th>\n",
       "      <td>26890</td>\n",
       "      <td>0</td>\n",
       "      <td>1</td>\n",
       "      <td>0</td>\n",
       "      <td>0</td>\n",
       "      <td>1</td>\n",
       "      <td>0</td>\n",
       "      <td>0</td>\n",
       "      <td>1</td>\n",
       "      <td>0</td>\n",
       "      <td>0</td>\n",
       "      <td>0</td>\n",
       "      <td>1</td>\n",
       "      <td>0</td>\n",
       "      <td>0</td>\n",
       "      <td>0</td>\n",
       "    </tr>\n",
       "    <tr>\n",
       "      <th>2019-01-03</th>\n",
       "      <td>19372</td>\n",
       "      <td>0</td>\n",
       "      <td>1</td>\n",
       "      <td>0</td>\n",
       "      <td>0</td>\n",
       "      <td>1</td>\n",
       "      <td>0</td>\n",
       "      <td>0</td>\n",
       "      <td>0</td>\n",
       "      <td>1</td>\n",
       "      <td>0</td>\n",
       "      <td>0</td>\n",
       "      <td>1</td>\n",
       "      <td>0</td>\n",
       "      <td>0</td>\n",
       "      <td>0</td>\n",
       "    </tr>\n",
       "    <tr>\n",
       "      <th>2019-01-03</th>\n",
       "      <td>10067</td>\n",
       "      <td>1</td>\n",
       "      <td>0</td>\n",
       "      <td>0</td>\n",
       "      <td>1</td>\n",
       "      <td>0</td>\n",
       "      <td>0</td>\n",
       "      <td>1</td>\n",
       "      <td>0</td>\n",
       "      <td>0</td>\n",
       "      <td>0</td>\n",
       "      <td>0</td>\n",
       "      <td>1</td>\n",
       "      <td>0</td>\n",
       "      <td>0</td>\n",
       "      <td>0</td>\n",
       "    </tr>\n",
       "  </tbody>\n",
       "</table>\n",
       "</div>"
      ],
      "text/plain": [
       "                 Price  Airline_1  Airline_2  Airline_3  Duration_1  \\\n",
       "Date_of_Journey                                                       \n",
       "2019-01-03        5515          1          0          0           1   \n",
       "2019-01-03       29528          0          1          0           0   \n",
       "2019-01-03       26890          0          1          0           0   \n",
       "2019-01-03       19372          0          1          0           0   \n",
       "2019-01-03       10067          1          0          0           1   \n",
       "\n",
       "                 Duration_2  Duration_3  Stops_0  Stops_1  Stops_2  Stops_3  \\\n",
       "Date_of_Journey                                                               \n",
       "2019-01-03                0           0        1        0        0        0   \n",
       "2019-01-03                1           0        0        1        0        0   \n",
       "2019-01-03                1           0        0        1        0        0   \n",
       "2019-01-03                1           0        0        0        1        0   \n",
       "2019-01-03                0           0        1        0        0        0   \n",
       "\n",
       "                 Stops_4  Info_1  Info_2  Info_3  Info_4  \n",
       "Date_of_Journey                                           \n",
       "2019-01-03             0       1       0       0       0  \n",
       "2019-01-03             0       1       0       0       0  \n",
       "2019-01-03             0       1       0       0       0  \n",
       "2019-01-03             0       1       0       0       0  \n",
       "2019-01-03             0       1       0       0       0  "
      ]
     },
     "execution_count": 71,
     "metadata": {},
     "output_type": "execute_result"
    }
   ],
   "source": [
    "dummy_set1.head()"
   ]
  },
  {
   "cell_type": "code",
   "execution_count": 72,
   "metadata": {
    "colab": {},
    "colab_type": "code",
    "id": "EVLJz0uGYVdO"
   },
   "outputs": [],
   "source": [
    "\n",
    "Y = dummy_set1.iloc[:,0].values  \n",
    "\n",
    "# Independent Variables\n",
    "X = dummy_set1.iloc[:,dummy_set1.columns != 'Price'].values \n",
    "\n"
   ]
  },
  {
   "cell_type": "code",
   "execution_count": 79,
   "metadata": {},
   "outputs": [],
   "source": [
    "from sklearn.model_selection import train_test_split\n",
    "X_train,X_test,Y_train,Y_test=train_test_split(X,Y,test_size=0.2,random_state=7)"
   ]
  },
  {
   "cell_type": "code",
   "execution_count": 80,
   "metadata": {},
   "outputs": [
    {
     "name": "stdout",
     "output_type": "stream",
     "text": [
      "(8545, 15)\n",
      "(8545,)\n"
     ]
    }
   ],
   "source": [
    "print(X_train.shape)\n",
    "print(Y_train.shape)\n"
   ]
  },
  {
   "cell_type": "markdown",
   "metadata": {
    "colab_type": "text",
    "id": "1_giRsy4KjbZ"
   },
   "source": [
    "## Modelling with Support Vector Regressor"
   ]
  },
  {
   "cell_type": "code",
   "execution_count": 81,
   "metadata": {
    "colab": {},
    "colab_type": "code",
    "id": "naviX4YjJXTd"
   },
   "outputs": [
    {
     "name": "stdout",
     "output_type": "stream",
     "text": [
      "[ 4788.58411765  4788.58411765  6129.14975845 ... 12703.63506711\n",
      " 11578.15916542 11578.15916542]\n"
     ]
    }
   ],
   "source": [
    "\n",
    "from sklearn.svm import SVR\n",
    "from sklearn.tree import DecisionTreeRegressor\n",
    "\n",
    "svr = SVR(kernel = \"rbf\")\n",
    "tree=DecisionTreeRegressor()\n",
    "\n",
    "tree.fit(X_train,Y_train)\n",
    "\n",
    "Y_pred = (tree.predict(X_test))\n",
    "\n",
    "print(Y_pred)\n",
    "pd.DataFrame(Y_pred, columns = ['Price']).to_excel(\"Final_Pred.xlsx\", index = False)\n"
   ]
  },
  {
   "cell_type": "code",
   "execution_count": 75,
   "metadata": {},
   "outputs": [],
   "source": [
    "from sklearn.ensemble import RandomForestRegressor\n",
    "random=RandomForestRegressor()\n",
    "random.fit(X_train,Y_train)\n",
    "Y_pred=random.predict(X_test)"
   ]
  },
  {
   "cell_type": "code",
   "execution_count": 83,
   "metadata": {},
   "outputs": [],
   "source": [
    "import xgboost as xgb\n",
    "xg_reg = xgb.XGBRegressor(objective ='reg:linear', colsample_bytree = 0.3, learning_rate = 0.1,\n",
    "                max_depth = 5, alpha = 10, n_estimators = 10)"
   ]
  },
  {
   "cell_type": "code",
   "execution_count": 84,
   "metadata": {},
   "outputs": [
    {
     "data": {
      "text/plain": [
       "XGBRegressor(alpha=10, base_score=0.5, booster='gbtree', colsample_bylevel=1,\n",
       "       colsample_bytree=0.3, gamma=0, learning_rate=0.1, max_delta_step=0,\n",
       "       max_depth=5, min_child_weight=1, missing=None, n_estimators=10,\n",
       "       n_jobs=1, nthread=None, objective='reg:linear', random_state=0,\n",
       "       reg_alpha=0, reg_lambda=1, scale_pos_weight=1, seed=None,\n",
       "       silent=True, subsample=1)"
      ]
     },
     "execution_count": 84,
     "metadata": {},
     "output_type": "execute_result"
    }
   ],
   "source": [
    "xg_reg.fit(X_train,Y_train)"
   ]
  },
  {
   "cell_type": "code",
   "execution_count": 85,
   "metadata": {},
   "outputs": [],
   "source": [
    "Y_pred=xg_reg.predict(X_test)"
   ]
  },
  {
   "cell_type": "code",
   "execution_count": 86,
   "metadata": {},
   "outputs": [
    {
     "name": "stdout",
     "output_type": "stream",
     "text": [
      "-0.21200410084889487\n",
      "4493.065667916752\n"
     ]
    }
   ],
   "source": [
    "import numpy as np\n",
    "from sklearn.metrics import accuracy_score,r2_score,mean_squared_error\n",
    "accuracy=r2_score(Y_test,Y_pred)\n",
    "rmse=np.sqrt(mean_squared_error(Y_test,Y_pred))\n",
    "print(accuracy*100)\n",
    "print(rmse)"
   ]
  },
  {
   "cell_type": "code",
   "execution_count": 87,
   "metadata": {
    "colab": {
     "base_uri": "https://localhost:8080/",
     "height": 119
    },
    "colab_type": "code",
    "id": "DGtFHyIXjP6v",
    "outputId": "5c608f0f-e4d5-43ea-d9c9-415f09ddfd3b"
   },
   "outputs": [
    {
     "name": "stdout",
     "output_type": "stream",
     "text": [
      "             0\n",
      "0  3233.273193\n",
      "1  3233.273193\n",
      "2  3863.111816\n",
      "3  2864.518066\n",
      "4  7593.828125\n"
     ]
    }
   ],
   "source": [
    "print(pd.DataFrame(Y_pred).head())"
   ]
  },
  {
   "cell_type": "code",
   "execution_count": null,
   "metadata": {},
   "outputs": [],
   "source": []
  },
  {
   "cell_type": "code",
   "execution_count": null,
   "metadata": {},
   "outputs": [],
   "source": []
  }
 ],
 "metadata": {
  "colab": {
   "collapsed_sections": [],
   "name": "Soln_Predict_Flight_Ticket.ipynb",
   "provenance": [],
   "version": "0.3.2"
  },
  "kernelspec": {
   "display_name": "Python 3",
   "language": "python",
   "name": "python3"
  },
  "language_info": {
   "codemirror_mode": {
    "name": "ipython",
    "version": 3
   },
   "file_extension": ".py",
   "mimetype": "text/x-python",
   "name": "python",
   "nbconvert_exporter": "python",
   "pygments_lexer": "ipython3",
   "version": "3.6.5"
  }
 },
 "nbformat": 4,
 "nbformat_minor": 1
}
